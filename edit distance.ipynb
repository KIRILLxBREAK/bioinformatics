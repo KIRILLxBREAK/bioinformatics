{
 "cells": [
  {
   "cell_type": "markdown",
   "metadata": {},
   "source": [
    "# Edit Distance\n"
   ]
  },
  {
   "cell_type": "markdown",
   "metadata": {},
   "source": [
    "## Hamming distance"
   ]
  },
  {
   "cell_type": "markdown",
   "metadata": {},
   "source": [
    "mismatch number"
   ]
  },
  {
   "cell_type": "code",
   "execution_count": 1,
   "metadata": {
    "collapsed": true
   },
   "outputs": [],
   "source": [
    "# len(v) = len(w), O(n)\n",
    "def hammingDistance(v, w):\n",
    "    d = 0\n",
    "    for i in range(len(v)):\n",
    "        if v[i] != w[i]:\n",
    "            d += 1 # d += int(v[i]!=w[i]) - скобки айвесона\n",
    "    return d        "
   ]
  },
  {
   "cell_type": "code",
   "execution_count": 3,
   "metadata": {
    "collapsed": false
   },
   "outputs": [
    {
     "name": "stdout",
     "output_type": "stream",
     "text": [
      "3\n"
     ]
    }
   ],
   "source": [
    "v = \"Kirill\"\n",
    "w = \"Kihuil\"\n",
    "print(hammingDistance(v, w))"
   ]
  },
  {
   "cell_type": "markdown",
   "metadata": {},
   "source": [
    "## Levenshtein distance"
   ]
  },
  {
   "cell_type": "markdown",
   "metadata": {},
   "source": [
    "1965, number of del-ins-sub "
   ]
  },
  {
   "cell_type": "markdown",
   "metadata": {},
   "source": [
    "### Needleman–Wunsch algorithm\n"
   ]
  },
  {
   "cell_type": "code",
   "execution_count": 7,
   "metadata": {
    "collapsed": false
   },
   "outputs": [
    {
     "name": "stdout",
     "output_type": "stream",
     "text": [
      "3\n"
     ]
    },
    {
     "data": {
      "text/plain": [
       "[[0, 1, 2, 3, 4, 5],\n",
       " [1, 0, 1, 2, 3, 4],\n",
       " [2, 1, 1, 1, 2, 3],\n",
       " [3, 2, 2, 2, 2, 3],\n",
       " [4, 3, 3, 3, 3, 3],\n",
       " [5, 4, 4, 4, 4, 3]]"
      ]
     },
     "execution_count": 7,
     "metadata": {},
     "output_type": "execute_result"
    }
   ],
   "source": [
    "#O(n*m)\n",
    "def levDistance(v, w):\n",
    "    n = len(v)\n",
    "    m = len(w)\n",
    "    D = [[0] * (m+1) for i in range(n+1)] #double dimension matrix (list comprehension)\n",
    "    \n",
    "    #first string and first column\n",
    "    for i in range(n+1):\n",
    "        D[i][0] = i\n",
    "    for j in range(m+1):\n",
    "        D[0][j] = j\n",
    "        \n",
    "    for i in range(1, n+1):\n",
    "        for j in range(1, m+1):\n",
    "            k = (v[i-1]!=w[j-1]) #check if i-symbol in v = j-symbol in w\n",
    "            D[i][j] = min(D[i-1][j]+1, D[i][j-1]+1, D[i-1][j-1]+int(k))\n",
    "    print D[n][m]        \n",
    "    return D\n",
    "\n",
    "levDistance(\"snowy\", \"sunny\")"
   ]
  },
  {
   "cell_type": "code",
   "execution_count": 33,
   "metadata": {
    "collapsed": false
   },
   "outputs": [
    {
     "data": {
      "text/plain": [
       "u'/home/kirill/Projects/BioInformatics'"
      ]
     },
     "execution_count": 33,
     "metadata": {},
     "output_type": "execute_result"
    }
   ],
   "source": [
    "%pwd"
   ]
  },
  {
   "cell_type": "markdown",
   "metadata": {
    "collapsed": true
   },
   "source": [
    "#### saving way with backtracer\n",
    "A: ->; B: |; C: \\"
   ]
  },
  {
   "cell_type": "code",
   "execution_count": 9,
   "metadata": {
    "collapsed": false,
    "scrolled": true
   },
   "outputs": [
    {
     "name": "stdout",
     "output_type": "stream",
     "text": [
      "4\n",
      "[['-', '-', '-', '-', '-', '-', '-', '-'], ['|', 'C', '-', '-', '-', '-', '-', '-'], ['|', '|', 'C', '-', '-', '-', '-', '-'], ['|', '|', '|', 'C', 'C', 'C', '-', '-'], ['|', '|', '|', 'C', 'C', '-', 'C', 'C'], ['|', '|', '|', 'C', 'C', 'C', 'C', 'C'], ['|', '|', '|', '|', '|', 'C', 'C', 'C']]\n",
      "PRET-TY\n",
      "PRTTEIN\n"
     ]
    }
   ],
   "source": [
    "def levDistanceWithWay(v, w):\n",
    "    n = len(v)\n",
    "    m = len(w)\n",
    "    D = [[0] * (m+1) for i in range(n+1)] #list comprehension\n",
    "    B = [[0] * (m+1) for i in range(n+1)] #backtracker\n",
    "    for i in range(n+1):\n",
    "        D[i][0] = i\n",
    "        B[i][0] = \"|\"\n",
    "    for j in range(m+1):\n",
    "        D[0][j] = j\n",
    "        B[0][j] = \"-\"\n",
    "        \n",
    "    for i in range(1, n+1):\n",
    "        for j in range(1, m+1):\n",
    "            k = (v[i-1]!=w[j-1])\n",
    "            D[i][j] = D[i-1][j-1] + int(k)\n",
    "            B[i][j] = \"C\"\n",
    "            if D[i][j] > D[i-1][j]+1:\n",
    "                D[i][j] = D[i-1][j]+1\n",
    "                B[i][j] = \"|\"    \n",
    "            if D[i][j] > D[i][j-1]+1:\n",
    "                D[i][j] = D[i][j-1]+1\n",
    "                B[i][j] = \"-\"\n",
    "    print D[n][m]            \n",
    "    return B\n",
    "\n",
    "v = \"PRETTY\"\n",
    "w = \"PRTTEIN\"\n",
    "B = levDistanceWithWay(\"PRETTY\", \"PRTTEIN\")\n",
    "print B\n",
    "i = len(B)-1\n",
    "j = len(B[0])-1\n",
    "\n",
    "while i!=0 and j!=0:\n",
    "    if B[i][j] == \"C\":\n",
    "        i -= 1\n",
    "        j -= 1\n",
    "    elif B[i][j] == \"|\":\n",
    "        i -= 1\n",
    "        str1 = w[:i]\n",
    "        str2 = w[i:]\n",
    "        w = str1 + '-' + str2\n",
    "    else:\n",
    "        j -= 1\n",
    "        str1 = v[:j]\n",
    "        str2 = v[j:]\n",
    "        v = str1 + '-' + str2\n",
    "    \n",
    "print v\n",
    "print w"
   ]
  },
  {
   "cell_type": "code",
   "execution_count": 13,
   "metadata": {
    "collapsed": false
   },
   "outputs": [
    {
     "name": "stdout",
     "output_type": "stream",
     "text": [
      "PRETTY\n",
      "PRTTEIN\n"
     ]
    }
   ],
   "source": [
    "from Bio import SeqIO\n",
    "fasta_sequences = SeqIO.parse(open(\"example.fasta\"),'fasta')\n",
    "name = []\n",
    "sequence = []\n",
    "for fasta in fasta_sequences:\n",
    "    name.append(fasta.id)\n",
    "    sequence.append(str(fasta.seq))\n",
    "v = sequence[0]\n",
    "w = sequence[1]\n",
    "\n",
    "print v\n",
    "print w"
   ]
  },
  {
   "cell_type": "markdown",
   "metadata": {
    "collapsed": false
   },
   "source": [
    "# Fibbonachi"
   ]
  },
  {
   "cell_type": "markdown",
   "metadata": {},
   "source": [
    "## Запоминание"
   ]
  },
  {
   "cell_type": "code",
   "execution_count": 43,
   "metadata": {
    "collapsed": true
   },
   "outputs": [],
   "source": [
    "M = {0: 0, 1: 1}\n",
    "\n",
    "def fib(n):\n",
    "    if n in M:\n",
    "        return M[n]\n",
    "    M[n] = fib(n - 1) + fib(n - 2)\n",
    "    return M[n]"
   ]
  },
  {
   "cell_type": "markdown",
   "metadata": {},
   "source": [
    "## Динамическое программирование"
   ]
  },
  {
   "cell_type": "code",
   "execution_count": 44,
   "metadata": {
    "collapsed": true
   },
   "outputs": [],
   "source": [
    "def fib(n):\n",
    "    a = 0\n",
    "    b = 1\n",
    "    for __ in range(n):\n",
    "        a, b = b, a + b\n",
    "    return a"
   ]
  },
  {
   "cell_type": "code",
   "execution_count": 45,
   "metadata": {
    "collapsed": false
   },
   "outputs": [
    {
     "data": {
      "text/plain": [
       "144"
      ]
     },
     "execution_count": 45,
     "metadata": {},
     "output_type": "execute_result"
    }
   ],
   "source": [
    "fib(12)"
   ]
  },
  {
   "cell_type": "markdown",
   "metadata": {},
   "source": [
    "# Насюше"
   ]
  },
  {
   "cell_type": "markdown",
   "metadata": {},
   "source": [
    "## Task 13 Edit Distance"
   ]
  },
  {
   "cell_type": "code",
   "execution_count": 2,
   "metadata": {
    "collapsed": false
   },
   "outputs": [
    {
     "name": "stdout",
     "output_type": "stream",
     "text": [
      "PRETTY\n",
      "PRTTEIN\n",
      "4\n"
     ]
    }
   ],
   "source": [
    "from Bio import SeqIO\n",
    "fasta_sequences = SeqIO.parse(open(\"example.fasta\"),'fasta')\n",
    "name = []\n",
    "sequence = []\n",
    "for fasta in fasta_sequences:\n",
    "    name.append(fasta.id)\n",
    "    sequence.append(str(fasta.seq))\n",
    "v = sequence[0]\n",
    "w = sequence[1]\n",
    "\n",
    "print v\n",
    "print w\n",
    "\n",
    "def levDistance(v, w):\n",
    "    n = len(v)\n",
    "    m = len(w)\n",
    "    D = [[0] * (m+1) for i in range(n+1)] #double dimension matrix (list comprehension)\n",
    "    \n",
    "    #first string and first column\n",
    "    for i in range(n+1):\n",
    "        D[i][0] = i\n",
    "    for j in range(m+1):\n",
    "        D[0][j] = j\n",
    "        \n",
    "    for i in range(1, n+1):\n",
    "        for j in range(1, m+1):\n",
    "            k = (v[i-1]!=w[j-1]) #check if i-symbol in v = j-symbol in w\n",
    "            D[i][j] = min(D[i-1][j]+1, D[i][j-1]+1, D[i-1][j-1]+int(k))\n",
    "    print D[n][m]\n",
    "   \n",
    "levDistance(v,w)"
   ]
  },
  {
   "cell_type": "markdown",
   "metadata": {
    "collapsed": true
   },
   "source": [
    "## Task 14 Edit Distance Alignment"
   ]
  },
  {
   "cell_type": "code",
   "execution_count": 14,
   "metadata": {
    "collapsed": false
   },
   "outputs": [
    {
     "name": "stdout",
     "output_type": "stream",
     "text": [
      "4\n",
      "PRET-TY\n",
      "PRTTEIN\n"
     ]
    }
   ],
   "source": [
    "def levDistanceWithWay(v, w):\n",
    "    n = len(v)\n",
    "    m = len(w)\n",
    "    D = [[0] * (m+1) for i in range(n+1)] #list comprehension\n",
    "    B = [[0] * (m+1) for i in range(n+1)] #backtracker\n",
    "    for i in range(n+1):\n",
    "        D[i][0] = i\n",
    "        B[i][0] = \"|\"\n",
    "    for j in range(m+1):\n",
    "        D[0][j] = j\n",
    "        B[0][j] = \"-\"\n",
    "        \n",
    "    for i in range(1, n+1):\n",
    "        for j in range(1, m+1):\n",
    "            k = (v[i-1]!=w[j-1])\n",
    "            D[i][j] = D[i-1][j-1] + int(k)\n",
    "            B[i][j] = \"C\"\n",
    "            if D[i][j] > D[i-1][j]+1:\n",
    "                D[i][j] = D[i-1][j]+1\n",
    "                B[i][j] = \"|\"    \n",
    "            if D[i][j] > D[i][j-1]+1:\n",
    "                D[i][j] = D[i][j-1]+1\n",
    "                B[i][j] = \"-\"\n",
    "    print D[n][m]            \n",
    "    return B\n",
    "\n",
    "from Bio import SeqIO\n",
    "fasta_sequences = SeqIO.parse(open(\"example.fasta\"),'fasta')\n",
    "name = []\n",
    "sequence = []\n",
    "for fasta in fasta_sequences:\n",
    "    name.append(fasta.id)\n",
    "    sequence.append(str(fasta.seq))\n",
    "v = sequence[0]\n",
    "w = sequence[1]\n",
    "\n",
    "B = levDistanceWithWay(v, w)\n",
    "#print B\n",
    "i = len(B)-1\n",
    "j = len(B[0])-1\n",
    "\n",
    "while i!=0 and j!=0:\n",
    "    if B[i][j] == \"C\":\n",
    "        i -= 1\n",
    "        j -= 1\n",
    "    elif B[i][j] == \"|\":\n",
    "        i -= 1\n",
    "        str1 = w[:i]\n",
    "        str2 = w[i:]\n",
    "        w = str1 + '-' + str2\n",
    "    else:\n",
    "        j -= 1\n",
    "        str1 = v[:j]\n",
    "        str2 = v[j:]\n",
    "        v = str1 + '-' + str2\n",
    "    \n",
    "print v\n",
    "print w"
   ]
  }
 ],
 "metadata": {
  "anaconda-cloud": {},
  "kernelspec": {
   "display_name": "Python [default]",
   "language": "python",
   "name": "python2"
  },
  "language_info": {
   "codemirror_mode": {
    "name": "ipython",
    "version": 2
   },
   "file_extension": ".py",
   "mimetype": "text/x-python",
   "name": "python",
   "nbconvert_exporter": "python",
   "pygments_lexer": "ipython2",
   "version": "2.7.12"
  }
 },
 "nbformat": 4,
 "nbformat_minor": 1
}
