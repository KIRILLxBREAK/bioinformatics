{
 "cells": [
  {
   "cell_type": "markdown",
   "metadata": {},
   "source": [
    "# Hidden Markov model"
   ]
  },
  {
   "cell_type": "markdown",
   "metadata": {
    "collapsed": true
   },
   "source": [
    "## Problem 16 (Probability of a Hidden Path Problem)"
   ]
  },
  {
   "cell_type": "markdown",
   "metadata": {},
   "source": [
    "It's not a hidden model, just simple Markov Chain"
   ]
  },
  {
   "cell_type": "code",
   "execution_count": 32,
   "metadata": {
    "scrolled": true
   },
   "outputs": [
    {
     "name": "stdout",
     "output_type": "stream",
     "text": [
      "Counter({'B': 1, 'A': 0})\n"
     ]
    }
   ],
   "source": [
    "# S = {A, B}, p = (0.5, 0.5)\n",
    "A = [[0.754, 0.246], [0.352, 0.648]]\n",
    "Q = \"BABABAABABAAABBAABABBABBAABABABBBBABABBBAAAABBBBAB\"\n",
    "\n",
    "import collections\n",
    "c = collections.Counter()\n",
    "#for char in Q:\n",
    "#    c[char] += 1\n",
    "c['A'] = 0\n",
    "c['B'] = 1\n",
    "print c"
   ]
  },
  {
   "cell_type": "code",
   "execution_count": 33,
   "metadata": {
    "collapsed": true
   },
   "outputs": [],
   "source": [
    "def pathProbability(s):\n",
    "    p = 0.5\n",
    "    pred = s[0]\n",
    "    for i in range(1, len(s)):\n",
    "        p = p*A[c[s[i-1]]][c[s[i]]]\n",
    "    return p"
   ]
  },
  {
   "cell_type": "code",
   "execution_count": 34,
   "metadata": {},
   "outputs": [
    {
     "data": {
      "text/plain": [
       "5.0983822630738875e-20"
      ]
     },
     "execution_count": 34,
     "metadata": {},
     "output_type": "execute_result"
    }
   ],
   "source": [
    "pathProbability(Q)"
   ]
  },
  {
   "cell_type": "markdown",
   "metadata": {},
   "source": [
    "## Problem 17(Probability of an Outcome Given a Hidden Path Problem)"
   ]
  },
  {
   "cell_type": "code",
   "execution_count": 40,
   "metadata": {},
   "outputs": [
    {
     "name": "stdout",
     "output_type": "stream",
     "text": [
      "Counter({'z': 2, 'y': 1, 'x': 0})\n",
      "Counter({'B': 1, 'A': 0})\n"
     ]
    }
   ],
   "source": [
    "# S = {A, B}, E = {x, y, z}\n",
    "A = [[0.093, 0.581, 0.325], [0.77, 0.21, 0.02]]\n",
    "D = \"zyyyxzxzyyzxyxxyyzyzzxyxyxxxxzxzxzxxzyzzzzyyxzxxxy\"\n",
    "Q = \"BAABBAABAABAAABAABBABBAAABBBABBAAAABAAAABBAAABABAA\"\n",
    "\n",
    "import collections\n",
    "cx = collections.Counter()\n",
    "cp = collections.Counter()\n",
    "#for char in Q:\n",
    "#    c[char] += 1\n",
    "cx['x'] = 0\n",
    "cx['y'] = 1\n",
    "cx['z'] = 2\n",
    "print cx\n",
    "\n",
    "cp['A'] = 0\n",
    "cp['B'] = 1\n",
    "print cp"
   ]
  },
  {
   "cell_type": "code",
   "execution_count": 38,
   "metadata": {
    "collapsed": true
   },
   "outputs": [],
   "source": [
    "def outcomeProbability(D, Q):\n",
    "    p  = 1\n",
    "    for i in range(0, len(D)):\n",
    "        p = p*A[cp[Q[i]]][cx[D[i]]]\n",
    "    return p"
   ]
  },
  {
   "cell_type": "code",
   "execution_count": 41,
   "metadata": {},
   "outputs": [
    {
     "data": {
      "text/plain": [
       "3.4231648217695625e-35"
      ]
     },
     "execution_count": 41,
     "metadata": {},
     "output_type": "execute_result"
    }
   ],
   "source": [
    "outcomeProbability(D, Q)"
   ]
  },
  {
   "cell_type": "markdown",
   "metadata": {},
   "source": [
    "## Viterbi Algorithm"
   ]
  },
  {
   "cell_type": "code",
   "execution_count": 158,
   "metadata": {
    "collapsed": true
   },
   "outputs": [],
   "source": [
    "def viterbi(A, B, p, D):\n",
    "    V = [[0]*len(A) for n in range(len(D))]\n",
    "    T = [[0]*len(A) for n in range(len(D))]\n",
    "    for t in range(len(A)):\n",
    "        V[0][t] = p[t]*B[t][cx[D[0]]]\n",
    "    \n",
    "    for n in range(1, len(D)):\n",
    "        for t in range(len(A)):\n",
    "            # maximum probability of observation d0..dn-1 and next state is t\n",
    "            M = 0\n",
    "            for s in range(len(A)):\n",
    "                if M < V[n-1][s]*A[s][t]:\n",
    "                    M = V[n-1][s]*A[s][t]\n",
    "                    T[n][t] = s\n",
    "            V[n][t] = B[t][cx[D[n]]]*M        \n",
    "    return V, T"
   ]
  },
  {
   "cell_type": "code",
   "execution_count": 159,
   "metadata": {
    "collapsed": true
   },
   "outputs": [],
   "source": [
    "def RestoreHiddenPath(V, T):\n",
    "    Q = [0]*len(D)\n",
    "    Smax = -1\n",
    "    for i in range(len(A)):\n",
    "        if V[len(D)-1][i] > Smax:\n",
    "            M = V[len(D)-1][i]\n",
    "            Smax = i\n",
    "    Q[len(D)-1] = Smax        \n",
    "    for n in reversed(range(1, len(D))):\n",
    "        Smax = T[n][Smax]\n",
    "        Q[n-1] = Smax\n",
    "    return Q"
   ]
  },
  {
   "cell_type": "code",
   "execution_count": 160,
   "metadata": {},
   "outputs": [
    {
     "name": "stdout",
     "output_type": "stream",
     "text": [
      "Counter({'z': 2, 'y': 1, 'x': 0})\n",
      "Counter({'B': 1, 'A': 0})\n",
      "[[0.0585, 0.0485], [0.025911463500000002, 0.00882063], [0.0019432820281095001, 0.0009023148934605], [0.00023916360576349243, 0.00033695927382810294], [4.7163515639171913e-05, 4.410561022918188e-05], [3.761899813277611e-06, 1.6423751051028837e-06], [1.6662620461948652e-06, 5.672192538459981e-07], [1.2496465467847633e-07, 5.802424323464379e-08], [5.535071946139219e-08, 1.884217063242066e-08], [2.45165495217539e-08, 8.345781480388713e-09]]\n",
      "[[0, 0], [0, 0], [0, 0], [0, 0], [1, 1], [1, 0], [0, 0], [0, 0], [0, 0], [0, 0]]\n",
      "AAABBAAAAB\n",
      "AAABBAAAAA\n"
     ]
    }
   ],
   "source": [
    "D = \"xyxzzxyxyy\" # E = {x, y, z}, S = {A, B}\n",
    "A  = [[0.641, 0.359], [0.729, 0.271]]\n",
    "B = [[0.117, 0.691, 0.192], [0.097, 0.42, 0.483]]\n",
    "p = [0.5, 0.5]\n",
    "\n",
    "import collections\n",
    "cx = collections.Counter()\n",
    "cx['x'] = 0\n",
    "cx['y'] = 1\n",
    "cx['z'] = 2\n",
    "print cx\n",
    "\n",
    "cp = collections.Counter()\n",
    "cp['A'] = 0\n",
    "cp['B'] = 1\n",
    "print cp\n",
    "\n",
    "\n",
    "V, T = viterbi(A, B, p, D)\n",
    "print V\n",
    "print T\n",
    "Q = RestoreHiddenPath(V, T)\n",
    "S = \"\"\n",
    "for i in Q:\n",
    "    if i==0:\n",
    "        S+='A'\n",
    "    elif i==1:\n",
    "        S+='B'\n",
    "print S\n",
    "print \"AAABBAAAAA\""
   ]
  },
  {
   "cell_type": "code",
   "execution_count": 161,
   "metadata": {},
   "outputs": [
    {
     "name": "stdout",
     "output_type": "stream",
     "text": [
      "Counter({'z': 2, 'y': 1, 'x': 0})\n",
      "Counter({'B': 1, 'A': 0})\n",
      "[[0.1205, 0.1755], [0.040643203999999995, 0.0491647455], [0.013708464990752, 0.013773060969115502], [0.00462370073980076, 0.003858399072948986], [0.001559518775125919, 0.0010808957746950018], [0.0002234540881751422, 0.00012721710909850294], [3.414244394863268e-05, 2.8706252891507817e-05], [5.216760580687381e-06, 6.176523490895496e-06], [1.7595507427388854e-06, 1.7302974672629552e-06], [2.521154686225984e-07, 2.036490907069808e-07], [8.5035522180779e-08, 5.7050459919744316e-08], [1.2184229760150738e-08, 6.714610930714227e-09], [4.109594487341723e-09, 2.037958638142333e-09], [5.888391365242714e-10, 2.887894238144775e-10], [8.997108702608952e-11, 7.564580851272705e-11], [3.034616800085568e-11, 2.119149244256387e-11], [4.636712393522743e-12, 4.559625088419369e-12], [7.08461833455914e-13, 9.810626128995767e-13], [2.3895567488267834e-13, 2.748358614403003e-13], [3.6510993388023954e-14, 5.913450845507933e-14], [5.5786607237297325e-15, 1.2723558242720234e-14], [1.186688106623788e-15, 2.7376389621784132e-15], [2.3943937891004836e-16, 3.222091552925505e-16], [3.658490046118193e-17, 6.932748848021104e-17], [6.465966868083843e-18, 1.4916710403867646e-17], [3.071112004789887e-18, 4.178782169249886e-18], [1.0358492258715713e-18, 1.1706482156758324e-18], [3.493795136957706e-19, 3.279465617876434e-19], [5.3383093415631574e-20, 7.056196607391471e-20], [1.8005476811971544e-20, 1.976729973791254e-20], [6.0730312629562586e-21, 5.537631115878557e-21], [8.701682114814245e-22, 6.517570318144427e-22], [1.2468118201390444e-22, 7.670919561643265e-23], [1.7864818483680287e-23, 9.028365487271657e-24], [2.729637075395446e-24, 2.2950217713244717e-24], [9.206738298859793e-25, 6.429296940406088e-25], [1.3191782904138268e-25, 7.56702532698035e-26], [4.449430072170988e-26, 2.206483992111975e-26], [6.79846218447294e-27, 5.716004836515182e-27], [9.741108556400209e-28, 6.727509052384909e-28], [3.2855590227711137e-28, 1.8846511134441607e-28], [4.707680390187363e-29, 2.3088280364817168e-29], [1.5878441034455153e-29, 7.874160374235187e-30], [2.275126545180872e-30, 1.1158098083732325e-30], [3.4762568534436617e-31, 2.922764067532059e-31], [4.980919869888216e-32, 3.439976396922532e-32], [7.136861226370632e-33, 4.0487146201219435e-33], [1.0225980239592895e-33, 5.01521512099517e-34], [1.4652193526498285e-34, 7.186000833966719e-35], [2.238767257687779e-35, 1.8823086935751287e-35], [3.420702043711465e-36, 4.050031854357054e-36], [4.9013187163115355e-37, 4.766725491304078e-37], [7.022805509479821e-38, 5.610245234245247e-38], [1.0062556646203067e-38, 6.603034230897286e-39], [1.4418033664945604e-39, 7.77150716839687e-40], [2.2029890358016985e-40, 1.852227112800902e-40], [3.366035067362847e-41, 3.9853074227158045e-41], [1.13532323580068e-41, 1.1164480067070282e-41], [1.7347057849092912e-42, 2.402183024671043e-42], [5.8509544478048504e-43, 6.729499547143708e-43], [8.939907338978943e-44, 1.4479393110620814e-43], [1.280945683158259e-44, 1.7041666515476273e-44], [1.95720814712483e-45, 3.666736092469421e-45], [3.4198547513634553e-46, 7.889459378639981e-46], [7.358262078676151e-47, 1.6975197482863142e-46], [1.5832257436341964e-47, 3.652434416005282e-47], [3.19449218892654e-48, 4.298769210261577e-48], [1.077463881418655e-48, 1.2042615053318884e-48], [1.6463001629748197e-49, 2.591125182717251e-49], [5.55277289369451e-50, 7.258803998115934e-50], [1.872883663768434e-50, 2.0334886108361958e-50], [6.317011851851276e-51, 5.696635329282627e-51], [9.051267261806583e-52, 6.704711917152481e-52], [3.0528838322002187e-52, 1.8782647011830132e-52], [1.0297010819951473e-52, 5.261789516541105e-53], [3.4730581854397927e-53, 1.7222986237667233e-53], [1.1714208492506168e-53, 5.809106582130307e-54], [1.6784586496402537e-54, 8.231808591853935e-55], [2.404962691550541e-55, 1.179486462275199e-55], [3.6746386949277333e-56, 3.0895593713273177e-56], [5.265169307640254e-57, 3.6362877976773996e-57], [7.544145190759261e-58, 4.2797652863543926e-58], [1.1527001202768704e-58, 9.691661560760792e-59], [1.651634840337511e-59, 1.1406697990553022e-59], [2.3665284646291998e-60, 1.3425227266961285e-60], [3.390856645259303e-61, 1.6630068826642312e-61], [1.1436952561662199e-61, 5.671614641993616e-62], [1.7474977297066142e-62, 1.4692595477864957e-62], [2.6700716811279244e-63, 3.1613029208038577e-63], [4.0797093244626e-64, 6.801954203489203e-64], [6.343978626968275e-65, 1.4635288722853475e-64], [1.2800316222782107e-65, 1.7225149415249627e-65], [1.9558115169437694e-66, 3.706214823633355e-66], [7.630503327489297e-67, 1.0382627269074718e-66], [1.0933290387759765e-67, 1.221993699061018e-67], [1.6705411715073656e-68, 2.6292783027106576e-68], [2.5524866775929645e-69, 5.657234074461331e-69], [4.9479300662053696e-70, 6.658338216278008e-70], [7.0895921160617025e-71, 7.836597747030564e-71], [1.015825116757785e-71, 9.223362084345093e-72]]\n",
      "[[0, 0], [0, 1], [0, 1], [0, 1], [0, 1], [0, 1], [0, 0], [0, 1], [0, 1], [0, 1], [0, 1], [0, 1], [0, 0], [0, 0], [0, 0], [0, 1], [0, 1], [0, 1], [0, 1], [0, 1], [0, 1], [1, 1], [1, 1], [0, 1], [1, 1], [1, 1], [0, 1], [0, 1], [0, 1], [0, 1], [0, 1], [0, 1], [0, 1], [0, 1], [0, 0], [0, 1], [0, 1], [0, 0], [0, 0], [0, 1], [0, 1], [0, 0], [0, 0], [0, 0], [0, 0], [0, 1], [0, 1], [0, 0], [0, 0], [0, 0], [0, 1], [0, 1], [0, 1], [0, 1], [0, 1], [0, 0], [0, 1], [0, 1], [0, 1], [0, 1], [0, 1], [0, 1], [0, 1], [1, 1], [1, 1], [1, 1], [1, 1], [0, 1], [0, 1], [0, 1], [0, 1], [0, 1], [0, 1], [0, 1], [0, 1], [0, 0], [0, 0], [0, 0], [0, 0], [0, 0], [0, 1], [0, 1], [0, 0], [0, 1], [0, 1], [0, 0], [0, 0], [0, 0], [0, 1], [0, 1], [1, 1], [1, 1], [0, 1], [1, 1], [0, 1], [0, 1], [0, 1], [1, 1], [0, 1], [0, 1]]\n",
      "AAAAAAAAAAAAAABBBBBBBBBBBAAAAAAAAAAAAAAAAAAAAAAAAAAAAAABBBBBBBBBBBAAAAAAAAAAAAAAAAAAAAABBBBBBBBBBBBB\n",
      "AAAAAAAAAAAAAABBBBBBBBBBBAAAAAAAAAAAAAAAAAAAAAAAAAAAAAABBBBBBBBBBBAAAAAAAAAAAAAAAAAAAAABBBBBBBBBBAAA\n"
     ]
    }
   ],
   "source": [
    "D = \"zxxxxyzzxyxyxyzxzzxzzzyzzxxxzxxyyyzxyxzyxyxyzyyyyzzyyyyzzxzxzyzzzzyxzxxxyxxxxyyzyyzyyyxzzzzyzxyzzyyy\" # E = {x, y, z}, S = {A, B}\n",
    "A  = [[0.634, 0.366], [0.387, 0.613]]\n",
    "B = [[0.532, 0.226, 0.241], [0.457, 0.192, 0.351]]\n",
    "p = [0.5, 0.5]\n",
    "    \n",
    "import collections\n",
    "cx = collections.Counter()\n",
    "cx['x'] = 0\n",
    "cx['y'] = 1\n",
    "cx['z'] = 2\n",
    "print cx\n",
    "\n",
    "cp['A'] = 0\n",
    "cp['B'] = 1\n",
    "print cp\n",
    "\n",
    "V, T = viterbi(A, B, p, D)\n",
    "print V\n",
    "print T\n",
    "Q = RestoreHiddenPath(V, T)\n",
    "S = \"\"\n",
    "for i in Q:\n",
    "    if i==0:\n",
    "        S+='A'\n",
    "    elif i==1:\n",
    "        S+='B'\n",
    "print S\n",
    "print \"AAAAAAAAAAAAAABBBBBBBBBBBAAAAAAAAAAAAAAAAAAAAAAAAAAAAAABBBBBBBBBBBAAAAAAAAAAAAAAAAAAAAABBBBBBBBBBAAA\""
   ]
  },
  {
   "cell_type": "code",
   "execution_count": 172,
   "metadata": {},
   "outputs": [
    {
     "name": "stdout",
     "output_type": "stream",
     "text": [
      "CCCCCCCCCCCCCCCCCCCCCCCCCCCCCCCCCCCCCCCCCCCCCCCCCCCCCCCCCCCCCCCCCCCCCCCCCCCCCCCCCCCCCCCCCCCCCCCCCCCB\n"
     ]
    }
   ],
   "source": [
    "D = \"zxxzyxzxyxzzyyxxyyzyzxxyzxyxxxyxzyxzyzzyyzzyxzzyyxxzzyxyzxzxzxyyzxxxzzxzzzzyzxyzyzxyzyyzxxxyyxyxzyxz\" # E = {x, y, z}, S = {A, B}\n",
    "A  = [[0.27,0.316,0.414],\n",
    "      [0.94,0.046,0.014],\n",
    "      [0.048,0.108,0.843]]\n",
    "B = [[0.286,0.408,0.306],\n",
    "     [0.462,0.129,0.409],\n",
    "     [0.387,0.359,0.254]]\n",
    "#p = [0.25, 0.25, 0.25, 0.25]\n",
    "#p = [0.5, 0,5]\n",
    "p = [1.0/3, 1.0/3, 1.0/3]\n",
    "    \n",
    "import collections\n",
    "cx = collections.Counter()\n",
    "cx['x'] = 0\n",
    "cx['y'] = 1\n",
    "cx['z'] = 2\n",
    "\n",
    "cp['A'] = 0\n",
    "cp['B'] = 1\n",
    "cp['C'] = 2\n",
    "cp['D'] = 3\n",
    "\n",
    "V, T = viterbi(A, B, p, D)\n",
    "Q = RestoreHiddenPath(V, T)\n",
    "S = \"\"\n",
    "for i in Q:\n",
    "    if i==0:\n",
    "        S+='A'\n",
    "    elif i==1:\n",
    "        S+='B'\n",
    "    elif i==2:\n",
    "        S+='C'\n",
    "    elif i==3:\n",
    "        S+='D'\n",
    "print S"
   ]
  },
  {
   "cell_type": "code",
   "execution_count": null,
   "metadata": {
    "collapsed": true
   },
   "outputs": [],
   "source": []
  }
 ],
 "metadata": {
  "anaconda-cloud": {},
  "kernelspec": {
   "display_name": "Python 3",
   "language": "python",
   "name": "python3"
  },
  "language_info": {
   "codemirror_mode": {
    "name": "ipython",
    "version": 3
   },
   "file_extension": ".py",
   "mimetype": "text/x-python",
   "name": "python",
   "nbconvert_exporter": "python",
   "pygments_lexer": "ipython3",
   "version": "3.6.1"
  }
 },
 "nbformat": 4,
 "nbformat_minor": 1
}
