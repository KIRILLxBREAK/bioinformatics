{
 "cells": [
  {
   "cell_type": "markdown",
   "metadata": {},
   "source": [
    "# Algorithm"
   ]
  },
  {
   "cell_type": "markdown",
   "metadata": {},
   "source": [
    "##  HeapSort"
   ]
  },
  {
   "cell_type": "code",
   "execution_count": 8,
   "metadata": {},
   "outputs": [],
   "source": [
    "def buildHeap(A):\n",
    "    \"\"\"build binary heap from array\"\"\"\n",
    "    return A\n",
    "\n",
    "def heapSort(A):\n",
    "    As = buildHeap(A)\n",
    "    heapSize = len(As)\n",
    "    for i in range(n - 2):\n",
    "        swap(As[0], As[n-1-i])\n",
    "        heapSize -= 1\n",
    "        shiftDown(A, 0, heapSize)\n",
    "    return As\n",
    "\n",
    "def shiftDown(A, 0, heapSize):\n",
    "    pass:\n",
    "\n",
    "def swap(A, x, y):    \n",
    "    A[x] += A[y]\n",
    "    A[y] = - A[y] + A[x]\n",
    "    A[x] -= A[y]\n",
    "\n",
    "\n"
   ]
  },
  {
   "cell_type": "code",
   "execution_count": 14,
   "metadata": {},
   "outputs": [],
   "source": [
    "a = [3, 5, 4, 6]\n",
    "swap(a,0,2)"
   ]
  },
  {
   "cell_type": "code",
   "execution_count": 15,
   "metadata": {},
   "outputs": [
    {
     "data": {
      "text/plain": [
       "[4, 5, 3, 6]"
      ]
     },
     "execution_count": 15,
     "metadata": {},
     "output_type": "execute_result"
    }
   ],
   "source": [
    "a"
   ]
  },
  {
   "cell_type": "code",
   "execution_count": null,
   "metadata": {
    "collapsed": true
   },
   "outputs": [],
   "source": []
  }
 ],
 "metadata": {
  "kernelspec": {
   "display_name": "Python 3",
   "language": "python",
   "name": "python3"
  },
  "language_info": {
   "codemirror_mode": {
    "name": "ipython",
    "version": 3
   },
   "file_extension": ".py",
   "mimetype": "text/x-python",
   "name": "python",
   "nbconvert_exporter": "python",
   "pygments_lexer": "ipython3",
   "version": "3.6.1"
  }
 },
 "nbformat": 4,
 "nbformat_minor": 2
}
