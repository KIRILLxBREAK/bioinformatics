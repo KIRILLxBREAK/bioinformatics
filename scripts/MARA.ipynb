{
 "cells": [
  {
   "cell_type": "code",
   "execution_count": 8,
   "metadata": {
    "collapsed": true
   },
   "outputs": [],
   "source": [
    "import numpy as np"
   ]
  },
  {
   "cell_type": "markdown",
   "metadata": {},
   "source": [
    "## EM-algorithm"
   ]
  },
  {
   "cell_type": "code",
   "execution_count": 9,
   "metadata": {
    "collapsed": true
   },
   "outputs": [],
   "source": [
    "E = ...\n",
    "\n",
    "\n",
    "def e_step():\n",
    "    return ...\n",
    "\n",
    "def m_step():\n",
    "    return ...\n",
    "\n",
    "while ():\n",
    "    pass"
   ]
  },
  {
   "cell_type": "code",
   "execution_count": 10,
   "metadata": {},
   "outputs": [
    {
     "name": "stdout",
     "output_type": "stream",
     "text": [
      "[[[ 0.  0.  0.]\n",
      "  [ 0.  0.  0.]]\n",
      "\n",
      " [[ 0.  0.  0.]\n",
      "  [ 0.  0.  0.]]]\n"
     ]
    }
   ],
   "source": [
    "p = np.zeros((2, 2, 3))\n",
    "print(p)"
   ]
  },
  {
   "cell_type": "code",
   "execution_count": 11,
   "metadata": {},
   "outputs": [
    {
     "name": "stdout",
     "output_type": "stream",
     "text": [
      "4\n",
      "5\n",
      "3\n"
     ]
    }
   ],
   "source": [
    "# initialize\n",
    "imax = 50\n",
    "\n",
    "F = np.array([[1, 2, 3], [4, 5, 6], [0, 0, 1], [0, 5, 0]])\n",
    "T = np.array([[1, 2, 0, 2, 0], [0, 3, 4, 0, 0], [5, 6, 0, 0, 7]])\n",
    "G = F.dot(T)\n",
    "print(len(F))\n",
    "print(T.shape[1])\n",
    "print(len(T))\n",
    "\n",
    "# E\n",
    "# http://www.machinelearning.ru/wiki/images/7/7c/Voron-2014-06-27-school-VI.pdf\n",
    "def E_step(F,T):\n",
    "    nd = np.zeros(5); nt = np.zeros(3); nwt = np.zeros((4,3)); ntd = np.zeros((3,5))\n",
    "    ptwd = np.zeros((4, 5 ,3))\n",
    "    for w in range(0, len(F)):\n",
    "        for d in range(0, T.shape[1]):\n",
    "            z = F[w,:].dot(T[:,d])\n",
    "            print(F[w,:], T[:,d], w, d, z)\n",
    "            for j in range(0, len(T)):\n",
    "                ptwd[w,d,j] = 0 if z==0 else F[w,t]*T[j,t]/z\n",
    "    print(ptwd)\n",
    "\n",
    "# M\n",
    "def M_step(ptwd):\n",
    "    nwt = np.zeros((len(F), len(T)))\n",
    "    for w in range(0, len(F)):\n",
    "        for t in range(0, F.shape[1]):\n",
    "            for d in range(0, T.shape[1]):\n",
    "                nwt[w,t] += ptwd[w, d, t]*G[w,d]\n",
    "            print(nwt)\n",
    "    for w in range(0, len(F)):\n",
    "        for t in range(0, F.shape[1]):\n",
    "            F[w,t] = nwt[w,t]/(sum(nwt[w,:]))\n",
    "                          \n",
    "    ntd = np.zeros((T.shape[0], T.shape[1]))\n",
    "    for d in range(0, T.shape[1]):\n",
    "        for t in range(0, F.shape[1]):\n",
    "            for w in range(0, len(F)):\n",
    "                ntd[t,d] += ptwd[w, d, t]*G[w,d]\n",
    "            print(nwt)\n",
    "    for t in range(0, len(T)):\n",
    "        for d in range(0, T.shape[1]):\n",
    "            T[t,d] = ntd[t,d]/(sum(ntd[t,:]))\n",
    "                          \n",
    "    return F,T        \n"
   ]
  },
  {
   "cell_type": "code",
   "execution_count": 12,
   "metadata": {},
   "outputs": [
    {
     "ename": "NameError",
     "evalue": "name 'EMalg' is not defined",
     "output_type": "error",
     "traceback": [
      "\u001b[0;31m---------------------------------------------------------------------------\u001b[0m",
      "\u001b[0;31mNameError\u001b[0m                                 Traceback (most recent call last)",
      "\u001b[0;32m<ipython-input-12-55a6cc0f2b0d>\u001b[0m in \u001b[0;36m<module>\u001b[0;34m()\u001b[0m\n\u001b[1;32m      1\u001b[0m \u001b[0;32mfor\u001b[0m \u001b[0mi\u001b[0m \u001b[0;32min\u001b[0m \u001b[0mrange\u001b[0m\u001b[0;34m(\u001b[0m\u001b[0;36m0\u001b[0m\u001b[0;34m,\u001b[0m \u001b[0mimax\u001b[0m\u001b[0;34m)\u001b[0m\u001b[0;34m:\u001b[0m\u001b[0;34m\u001b[0m\u001b[0m\n\u001b[0;32m----> 2\u001b[0;31m     \u001b[0mtemp\u001b[0m \u001b[0;34m=\u001b[0m \u001b[0mEMalg\u001b[0m\u001b[0;34m(\u001b[0m\u001b[0mtemp\u001b[0m\u001b[0;34m)\u001b[0m\u001b[0;34m\u001b[0m\u001b[0m\n\u001b[0m",
      "\u001b[0;31mNameError\u001b[0m: name 'EMalg' is not defined"
     ]
    }
   ],
   "source": [
    "for i in range(0, imax):\n",
    "    temp = EMalg(temp)"
   ]
  },
  {
   "cell_type": "markdown",
   "metadata": {},
   "source": [
    "## SVD"
   ]
  },
  {
   "cell_type": "code",
   "execution_count": 13,
   "metadata": {},
   "outputs": [
    {
     "name": "stdout",
     "output_type": "stream",
     "text": [
      "[[-0.59287234 -0.15382084 -1.50184995]\n",
      " [ 0.28860075 -0.4947321  -0.56265758]\n",
      " [-0.64559097  0.03620702 -0.51709442]\n",
      " [ 1.62590596  0.33378219 -1.28697403]] [[ 1.70602718  2.78058122 -1.16741243 -0.51482179  1.32119812]\n",
      " [-0.52900785 -0.30705362  1.94949521 -0.86390818  0.33349044]\n",
      " [ 1.27616049  1.11530259 -0.53087143 -0.19103899  1.14928696]\n",
      " [-0.10304308 -0.29489732 -0.21734192 -0.55959304 -0.25594667]]\n"
     ]
    }
   ],
   "source": [
    "import numpy as np\n",
    "\n",
    "M = np.random.normal(size = (4, 3))\n",
    "B = np.random.normal(size = (4, 5))\n",
    "print(M, B)"
   ]
  },
  {
   "cell_type": "code",
   "execution_count": 14,
   "metadata": {
    "collapsed": true
   },
   "outputs": [],
   "source": [
    "# X = np.dot(np.linalg.inv(M), B)\n",
    "# X = np.linalg.solve(M, B)\n",
    "# print(X)\n"
   ]
  },
  {
   "cell_type": "code",
   "execution_count": 15,
   "metadata": {},
   "outputs": [
    {
     "name": "stdout",
     "output_type": "stream",
     "text": [
      "[[1 2 3]\n",
      " [4 5 6]\n",
      " [0 0 1]\n",
      " [0 5 0]]\n",
      "[[1 2 0 2 0]\n",
      " [0 3 4 0 0]\n",
      " [5 6 0 0 7]]\n",
      "[[16 26  8  2 21]\n",
      " [34 59 20  8 42]\n",
      " [ 5  6  0  0  7]\n",
      " [ 0 15 20  0  0]]\n"
     ]
    }
   ],
   "source": [
    "M = np.array([[1, 2, 3], [4, 5, 6], [0, 0, 1], [0, 5, 0]])\n",
    "X = np.array([[1, 2, 0, 2, 0], [0, 3, 4, 0, 0], [5, 6, 0, 0, 7]])\n",
    "B = M.dot(X)\n",
    "print(M)\n",
    "print(X)\n",
    "print(M.dot(X))"
   ]
  },
  {
   "cell_type": "code",
   "execution_count": 18,
   "metadata": {},
   "outputs": [
    {
     "name": "stdout",
     "output_type": "stream",
     "text": [
      "(4, 4) (3, 3) (3,)\n"
     ]
    }
   ],
   "source": [
    " U, s, Vt = np.linalg.svd(M, full_matrices=True)\n",
    "print(U.shape, Vt.shape, s.shape)"
   ]
  },
  {
   "cell_type": "code",
   "execution_count": 19,
   "metadata": {},
   "outputs": [
    {
     "name": "stdout",
     "output_type": "stream",
     "text": [
      "[[ 10.02290673   0.           0.        ]\n",
      " [  0.           3.96172745   0.        ]\n",
      " [  0.           0.           0.91981319]\n",
      " [  0.           0.           0.        ]]\n"
     ]
    }
   ],
   "source": [
    "S = np.zeros((4, 3))\n",
    "S[:3, :3] = np.diag(s)\n",
    "print(S)\n"
   ]
  },
  {
   "cell_type": "markdown",
   "metadata": {},
   "source": [
    "### Проверки"
   ]
  },
  {
   "cell_type": "code",
   "execution_count": 20,
   "metadata": {},
   "outputs": [
    {
     "name": "stdout",
     "output_type": "stream",
     "text": [
      "True\n",
      "[[  1.00000000e+00  -8.32667268e-17   2.22044605e-16   8.32667268e-17]\n",
      " [ -8.32667268e-17   1.00000000e+00  -1.94289029e-16  -4.16333634e-17]\n",
      " [  2.22044605e-16  -1.94289029e-16   1.00000000e+00   9.02056208e-17]\n",
      " [  8.32667268e-17  -4.16333634e-17   9.02056208e-17   1.00000000e+00]]\n",
      "[[ 100.45865935    0.            0.        ]\n",
      " [   0.           15.69528435    0.        ]\n",
      " [   0.            0.            0.8460563 ]]\n"
     ]
    }
   ],
   "source": [
    "print( np.allclose(M, np.dot(U, np.dot(S, Vt))) )\n",
    "print( np.dot(np.transpose(U), U) )\n",
    "print( S.transpose().dot(S) )"
   ]
  },
  {
   "cell_type": "code",
   "execution_count": 23,
   "metadata": {},
   "outputs": [
    {
     "name": "stdout",
     "output_type": "stream",
     "text": [
      "[[  1.00000000e+00   2.00000000e+00  -8.88178420e-16   2.00000000e+00\n",
      "   -3.55271368e-15]\n",
      " [  5.27355937e-16   3.00000000e+00   4.00000000e+00  -1.38777878e-17\n",
      "    7.49400542e-16]\n",
      " [  5.00000000e+00   6.00000000e+00   2.66453526e-15   1.11022302e-16\n",
      "    7.00000000e+00]]\n"
     ]
    }
   ],
   "source": [
    "from scipy import linalg\n",
    "temp = np.dot( linalg.inv(S.transpose().dot(S)), np.transpose(S) ).dot(U.transpose())\n",
    "X1 = np.dot(np.dot(Vt.transpose(), temp) ,B)\n",
    "print(X1)"
   ]
  },
  {
   "cell_type": "code",
   "execution_count": 24,
   "metadata": {},
   "outputs": [
    {
     "name": "stdout",
     "output_type": "stream",
     "text": [
      "True\n"
     ]
    }
   ],
   "source": [
    "print( np.allclose(X1, X) )"
   ]
  },
  {
   "cell_type": "code",
   "execution_count": null,
   "metadata": {
    "collapsed": true
   },
   "outputs": [],
   "source": []
  }
 ],
 "metadata": {
  "kernelspec": {
   "display_name": "Python 3",
   "language": "python",
   "name": "python3"
  },
  "language_info": {
   "codemirror_mode": {
    "name": "ipython",
    "version": 3
   },
   "file_extension": ".py",
   "mimetype": "text/x-python",
   "name": "python",
   "nbconvert_exporter": "python",
   "pygments_lexer": "ipython3",
   "version": "3.6.1"
  }
 },
 "nbformat": 4,
 "nbformat_minor": 2
}
