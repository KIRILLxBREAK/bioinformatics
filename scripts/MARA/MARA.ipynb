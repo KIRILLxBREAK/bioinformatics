{
 "cells": [
  {
   "cell_type": "code",
   "execution_count": 1,
   "metadata": {
    "collapsed": true
   },
   "outputs": [],
   "source": [
    "import numpy as np\n",
    "import pandas as pd"
   ]
  },
  {
   "cell_type": "markdown",
   "metadata": {},
   "source": [
    "# Read matrix"
   ]
  },
  {
   "cell_type": "code",
   "execution_count": 8,
   "metadata": {},
   "outputs": [
    {
     "data": {
      "text/plain": [
       "array([[  6.57604082,   6.86500202,   7.13575951, ...,   8.72667739,\n",
       "         11.10949625,   6.74301493],\n",
       "       [  6.8204945 ,   4.98351181,   7.70167858, ...,   5.22749207,\n",
       "          6.02740839,   6.52961262],\n",
       "       [  7.06839643,   5.59367278,   7.96232512, ...,   5.58347746,\n",
       "         10.13682404,   6.5949579 ],\n",
       "       ..., \n",
       "       [  6.62600897,   6.23942651,   6.48791657, ...,   7.6230222 ,\n",
       "          5.24075466,   7.31636566],\n",
       "       [  6.02704631,   7.58048362,   6.64826626, ...,   8.1129282 ,\n",
       "          5.24075466,   7.31636566],\n",
       "       [  8.11138742,   5.59995929,   9.69581248, ...,   8.8030464 ,\n",
       "          9.59363602,   7.66925855]])"
      ]
     },
     "execution_count": 8,
     "metadata": {},
     "output_type": "execute_result"
    }
   ],
   "source": [
    "M = pd.read_csv('../../analysis/M.csv', index_col='motifs')\n",
    "M = M.values\n",
    "M"
   ]
  },
  {
   "cell_type": "code",
   "execution_count": 11,
   "metadata": {},
   "outputs": [
    {
     "data": {
      "text/plain": [
       "array([[  0.        ,   0.        ,   0.        , ...,   0.        ,\n",
       "          0.        ,   0.        ],\n",
       "       [  0.        ,   0.36282755,   0.33896971, ...,   0.66575677,\n",
       "          1.61019035,   0.        ],\n",
       "       [  0.        ,   0.        ,   0.        , ...,   0.        ,\n",
       "          0.        ,   0.        ],\n",
       "       ..., \n",
       "       [  0.17599736,   0.        ,   0.        , ...,   1.33151355,\n",
       "          1.20764276,   0.32056849],\n",
       "       [  0.70398946,   0.7256551 ,   0.67793942, ...,   0.        ,\n",
       "          0.60382138,   0.64113698],\n",
       "       [ 23.58364689,  26.30499739,  27.96500094, ...,  19.97270323,\n",
       "         19.72483177,  14.74615065]])"
      ]
     },
     "execution_count": 11,
     "metadata": {},
     "output_type": "execute_result"
    }
   ],
   "source": [
    "E = pd.read_csv('../../analysis/E.csv', header=None, index_col=0)\n",
    "E = E.values\n",
    "E"
   ]
  },
  {
   "cell_type": "code",
   "execution_count": 24,
   "metadata": {},
   "outputs": [
    {
     "data": {
      "text/plain": [
       "array([[ 10.20784716,   8.52644743,  13.21981862, ...,   0.        ,\n",
       "          6.44076139,  19.87524652],\n",
       "       [  7.57063086,   7.68398308,   6.38152754, ...,  26.97075328,\n",
       "         16.36311271,   0.64113698],\n",
       "       [ 18.83171804,  13.42461936,  14.57569746, ...,   0.        ,\n",
       "          0.20127379,   0.        ],\n",
       "       ..., \n",
       "       [  0.52799209,   0.36282755,   0.50845456, ...,   0.        ,\n",
       "          0.        ,   0.        ],\n",
       "       [  1.75997365,   1.08848265,   1.01690912, ...,   0.        ,\n",
       "          0.        ,   0.        ],\n",
       "       [ 14.84335916,  16.42515109,  17.93594608, ...,  34.37161068,\n",
       "         38.61517682,  36.86537661]])"
      ]
     },
     "execution_count": 24,
     "metadata": {},
     "output_type": "execute_result"
    }
   ],
   "source": [
    "A = pd.read_csv('../../analysis/A.csv', header=None, index_col=0).values\n",
    "A"
   ]
  },
  {
   "cell_type": "markdown",
   "metadata": {},
   "source": [
    "# Algorithm"
   ]
  },
  {
   "cell_type": "markdown",
   "metadata": {},
   "source": [
    "### EM-algorithm"
   ]
  },
  {
   "cell_type": "code",
   "execution_count": 12,
   "metadata": {
    "collapsed": true
   },
   "outputs": [],
   "source": [
    "E = ...\n",
    "\n",
    "\n",
    "def e_step():\n",
    "    return ...\n",
    "\n",
    "def m_step():\n",
    "    return ...\n",
    "\n",
    "while ():\n",
    "    pass"
   ]
  },
  {
   "cell_type": "code",
   "execution_count": 13,
   "metadata": {},
   "outputs": [
    {
     "name": "stdout",
     "output_type": "stream",
     "text": [
      "[[[ 0.  0.  0.]\n",
      "  [ 0.  0.  0.]]\n",
      "\n",
      " [[ 0.  0.  0.]\n",
      "  [ 0.  0.  0.]]]\n"
     ]
    }
   ],
   "source": [
    "p = np.zeros((2, 2, 3))\n",
    "print(p)"
   ]
  },
  {
   "cell_type": "code",
   "execution_count": 11,
   "metadata": {},
   "outputs": [
    {
     "name": "stdout",
     "output_type": "stream",
     "text": [
      "4\n",
      "5\n",
      "3\n"
     ]
    }
   ],
   "source": [
    "# initialize\n",
    "imax = 50\n",
    "\n",
    "F = np.array([[1, 2, 3], [4, 5, 6], [0, 0, 1], [0, 5, 0]])\n",
    "T = np.array([[1, 2, 0, 2, 0], [0, 3, 4, 0, 0], [5, 6, 0, 0, 7]])\n",
    "G = F.dot(T)\n",
    "print(len(F))\n",
    "print(T.shape[1])\n",
    "print(len(T))\n",
    "\n",
    "# E\n",
    "# http://www.machinelearning.ru/wiki/images/7/7c/Voron-2014-06-27-school-VI.pdf\n",
    "def E_step(F,T):\n",
    "    nd = np.zeros(5); nt = np.zeros(3); nwt = np.zeros((4,3)); ntd = np.zeros((3,5))\n",
    "    ptwd = np.zeros((4, 5 ,3))\n",
    "    for w in range(0, len(F)):\n",
    "        for d in range(0, T.shape[1]):\n",
    "            z = F[w,:].dot(T[:,d])\n",
    "            print(F[w,:], T[:,d], w, d, z)\n",
    "            for j in range(0, len(T)):\n",
    "                ptwd[w,d,j] = 0 if z==0 else F[w,t]*T[j,t]/z\n",
    "    print(ptwd)\n",
    "\n",
    "# M\n",
    "def M_step(ptwd):\n",
    "    nwt = np.zeros((len(F), len(T)))\n",
    "    for w in range(0, len(F)):\n",
    "        for t in range(0, F.shape[1]):\n",
    "            for d in range(0, T.shape[1]):\n",
    "                nwt[w,t] += ptwd[w, d, t]*G[w,d]\n",
    "            print(nwt)\n",
    "    for w in range(0, len(F)):\n",
    "        for t in range(0, F.shape[1]):\n",
    "            F[w,t] = nwt[w,t]/(sum(nwt[w,:]))\n",
    "                          \n",
    "    ntd = np.zeros((T.shape[0], T.shape[1]))\n",
    "    for d in range(0, T.shape[1]):\n",
    "        for t in range(0, F.shape[1]):\n",
    "            for w in range(0, len(F)):\n",
    "                ntd[t,d] += ptwd[w, d, t]*G[w,d]\n",
    "            print(nwt)\n",
    "    for t in range(0, len(T)):\n",
    "        for d in range(0, T.shape[1]):\n",
    "            T[t,d] = ntd[t,d]/(sum(ntd[t,:]))\n",
    "                          \n",
    "    return F,T        \n"
   ]
  },
  {
   "cell_type": "code",
   "execution_count": 12,
   "metadata": {},
   "outputs": [
    {
     "ename": "NameError",
     "evalue": "name 'EMalg' is not defined",
     "output_type": "error",
     "traceback": [
      "\u001b[0;31m---------------------------------------------------------------------------\u001b[0m",
      "\u001b[0;31mNameError\u001b[0m                                 Traceback (most recent call last)",
      "\u001b[0;32m<ipython-input-12-55a6cc0f2b0d>\u001b[0m in \u001b[0;36m<module>\u001b[0;34m()\u001b[0m\n\u001b[1;32m      1\u001b[0m \u001b[0;32mfor\u001b[0m \u001b[0mi\u001b[0m \u001b[0;32min\u001b[0m \u001b[0mrange\u001b[0m\u001b[0;34m(\u001b[0m\u001b[0;36m0\u001b[0m\u001b[0;34m,\u001b[0m \u001b[0mimax\u001b[0m\u001b[0;34m)\u001b[0m\u001b[0;34m:\u001b[0m\u001b[0;34m\u001b[0m\u001b[0m\n\u001b[0;32m----> 2\u001b[0;31m     \u001b[0mtemp\u001b[0m \u001b[0;34m=\u001b[0m \u001b[0mEMalg\u001b[0m\u001b[0;34m(\u001b[0m\u001b[0mtemp\u001b[0m\u001b[0;34m)\u001b[0m\u001b[0;34m\u001b[0m\u001b[0m\n\u001b[0m",
      "\u001b[0;31mNameError\u001b[0m: name 'EMalg' is not defined"
     ]
    }
   ],
   "source": [
    "for i in range(0, imax):\n",
    "    temp = EMalg(temp)"
   ]
  },
  {
   "cell_type": "markdown",
   "metadata": {},
   "source": [
    "### SVD"
   ]
  },
  {
   "cell_type": "markdown",
   "metadata": {},
   "source": [
    "Тестовые значения матриц"
   ]
  },
  {
   "cell_type": "code",
   "execution_count": 15,
   "metadata": {
    "collapsed": true
   },
   "outputs": [],
   "source": [
    "# X = np.dot(np.linalg.inv(M), B)\n",
    "# X = np.linalg.solve(M, B)\n",
    "# print(X)\n"
   ]
  },
  {
   "cell_type": "code",
   "execution_count": 16,
   "metadata": {},
   "outputs": [
    {
     "name": "stdout",
     "output_type": "stream",
     "text": [
      "[[1 2 3]\n",
      " [4 5 6]\n",
      " [0 0 1]\n",
      " [0 5 0]]\n",
      "[[1 2 0 2 0]\n",
      " [0 3 4 0 0]\n",
      " [5 6 0 0 7]]\n",
      "[[16 26  8  2 21]\n",
      " [34 59 20  8 42]\n",
      " [ 5  6  0  0  7]\n",
      " [ 0 15 20  0  0]]\n"
     ]
    }
   ],
   "source": [
    "M = np.array([[1, 2, 3], [4, 5, 6], [0, 0, 1], [0, 5, 0]])\n",
    "X = np.array([[1, 2, 0, 2, 0], [0, 3, 4, 0, 0], [5, 6, 0, 0, 7]])\n",
    "B = M.dot(X)\n",
    "print(M)\n",
    "print(X)\n",
    "print(M.dot(X))"
   ]
  },
  {
   "cell_type": "code",
   "execution_count": 17,
   "metadata": {},
   "outputs": [
    {
     "name": "stdout",
     "output_type": "stream",
     "text": [
      "(4, 4) (3, 3) (3,)\n"
     ]
    }
   ],
   "source": [
    " U, s, Vt = np.linalg.svd(M, full_matrices=True)\n",
    "print(U.shape, Vt.shape, s.shape)"
   ]
  },
  {
   "cell_type": "markdown",
   "metadata": {},
   "source": [
    "### Проверки"
   ]
  },
  {
   "cell_type": "code",
   "execution_count": 19,
   "metadata": {},
   "outputs": [
    {
     "name": "stdout",
     "output_type": "stream",
     "text": [
      "True\n",
      "[[  1.00000000e+00  -8.32667268e-17   2.22044605e-16   8.32667268e-17]\n",
      " [ -8.32667268e-17   1.00000000e+00  -1.94289029e-16  -4.16333634e-17]\n",
      " [  2.22044605e-16  -1.94289029e-16   1.00000000e+00   9.02056208e-17]\n",
      " [  8.32667268e-17  -4.16333634e-17   9.02056208e-17   1.00000000e+00]]\n",
      "[[ 100.45865935    0.            0.        ]\n",
      " [   0.           15.69528435    0.        ]\n",
      " [   0.            0.            0.8460563 ]]\n"
     ]
    }
   ],
   "source": [
    "print( np.allclose(M, np.dot(U, np.dot(S, Vt))) )\n",
    "print( np.dot(np.transpose(U), U) )\n",
    "print( S.transpose().dot(S) )"
   ]
  },
  {
   "cell_type": "code",
   "execution_count": 20,
   "metadata": {},
   "outputs": [
    {
     "name": "stdout",
     "output_type": "stream",
     "text": [
      "[[  1.00000000e+00   2.00000000e+00  -8.88178420e-16   2.00000000e+00\n",
      "   -3.55271368e-15]\n",
      " [  5.27355937e-16   3.00000000e+00   4.00000000e+00  -1.38777878e-17\n",
      "    7.49400542e-16]\n",
      " [  5.00000000e+00   6.00000000e+00   2.66453526e-15   1.11022302e-16\n",
      "    7.00000000e+00]]\n"
     ]
    }
   ],
   "source": [
    "from scipy import linalg\n",
    "temp = np.dot( linalg.inv(S.transpose().dot(S)), np.transpose(S) ).dot(U.transpose())\n",
    "X1 = np.dot(np.dot(Vt.transpose(), temp) ,B)\n",
    "print(X1)"
   ]
  },
  {
   "cell_type": "code",
   "execution_count": 21,
   "metadata": {},
   "outputs": [
    {
     "name": "stdout",
     "output_type": "stream",
     "text": [
      "True\n"
     ]
    }
   ],
   "source": [
    "print( np.allclose(X1, X) )"
   ]
  },
  {
   "cell_type": "code",
   "execution_count": null,
   "metadata": {
    "collapsed": true
   },
   "outputs": [],
   "source": []
  }
 ],
 "metadata": {
  "kernelspec": {
   "display_name": "Python 3",
   "language": "python",
   "name": "python3"
  },
  "language_info": {
   "codemirror_mode": {
    "name": "ipython",
    "version": 3
   },
   "file_extension": ".py",
   "mimetype": "text/x-python",
   "name": "python",
   "nbconvert_exporter": "python",
   "pygments_lexer": "ipython3",
   "version": "3.6.3"
  }
 },
 "nbformat": 4,
 "nbformat_minor": 2
}
