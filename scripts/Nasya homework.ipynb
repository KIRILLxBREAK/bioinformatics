{
 "cells": [
  {
   "cell_type": "markdown",
   "metadata": {},
   "source": [
    "# Algorithm"
   ]
  },
  {
   "cell_type": "markdown",
   "metadata": {},
   "source": [
    "##  HeapSort"
   ]
  },
  {
   "cell_type": "code",
   "execution_count": 20,
   "metadata": {},
   "outputs": [],
   "source": [
    "def heapsort(lst):\n",
    "    ''' Heapsort. Note: this function sorts in-place (it mutates the list). '''\n",
    "    # in pseudo-code, heapify only called once, so inline it here\n",
    "    for start in range(int(len(lst)/2), -1, -1):#range(int((len(lst)-2)/2), -1, -1):\n",
    "        siftdown(lst, start, len(lst)-1)\n",
    " \n",
    "    for end in range(len(lst)-1, 0, -1):\n",
    "        lst[end], lst[0] = lst[0], lst[end]\n",
    "        siftdown(lst, 0, end-1)\n",
    "    return lst\n",
    " \n",
    "def siftdown(lst, start, end):\n",
    "    root = start\n",
    "    while True:\n",
    "        child = root * 2 + 1\n",
    "        if child > end: break\n",
    "        if child + 1 <= end and lst[child] < lst[child + 1]:\n",
    "            child += 1\n",
    "        if lst[root] < lst[child]:\n",
    "            lst[root], lst[child] = lst[child], lst[root]\n",
    "            root = child\n",
    "        else:\n",
    "            break\n",
    "\n",
    "\n"
   ]
  },
  {
   "cell_type": "code",
   "execution_count": 21,
   "metadata": {},
   "outputs": [
    {
     "data": {
      "text/plain": [
       "[0, 1, 2, 3, 4, 5, 6, 7, 8, 9]"
      ]
     },
     "execution_count": 21,
     "metadata": {},
     "output_type": "execute_result"
    }
   ],
   "source": [
    "ary = [7, 6, 5, 9, 8, 4, 3, 1, 2, 0]\n",
    "heapsort(ary)"
   ]
  },
  {
   "cell_type": "code",
   "execution_count": null,
   "metadata": {
    "collapsed": true
   },
   "outputs": [],
   "source": []
  },
  {
   "cell_type": "markdown",
   "metadata": {},
   "source": [
    "## Zero submatrix\n",
    "http://e-maxx.ru/algo/maximum_zero_submatrix"
   ]
  },
  {
   "cell_type": "code",
   "execution_count": null,
   "metadata": {
    "collapsed": true
   },
   "outputs": [],
   "source": []
  }
 ],
 "metadata": {
  "kernelspec": {
   "display_name": "Python 3",
   "language": "python",
   "name": "python3"
  },
  "language_info": {
   "codemirror_mode": {
    "name": "ipython",
    "version": 3
   },
   "file_extension": ".py",
   "mimetype": "text/x-python",
   "name": "python",
   "nbconvert_exporter": "python",
   "pygments_lexer": "ipython3",
   "version": "3.6.1"
  }
 },
 "nbformat": 4,
 "nbformat_minor": 2
}
