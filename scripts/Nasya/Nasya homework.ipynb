{
 "cells": [
  {
   "cell_type": "markdown",
   "metadata": {},
   "source": [
    "# Algorithm"
   ]
  },
  {
   "cell_type": "markdown",
   "metadata": {},
   "source": [
    "##  1. HeapSort"
   ]
  },
  {
   "cell_type": "code",
   "execution_count": 1,
   "metadata": {
    "collapsed": true
   },
   "outputs": [],
   "source": [
    "def heapsort(lst):\n",
    "    ''' Heapsort. Note: this function sorts in-place (it mutates the list). '''\n",
    "    # in pseudo-code, heapify only called once, so inline it here\n",
    "    for start in range(int(len(lst)/2), -1, -1):#range(int((len(lst)-2)/2), -1, -1):\n",
    "        siftdown(lst, start, len(lst)-1)\n",
    " \n",
    "    for end in range(len(lst)-1, 0, -1):\n",
    "        lst[end], lst[0] = lst[0], lst[end]\n",
    "        siftdown(lst, 0, end-1)\n",
    "    return lst\n",
    " \n",
    "def siftdown(lst, start, end):\n",
    "    root = start\n",
    "    while True:\n",
    "        child = root * 2 + 1\n",
    "        if child > end: break\n",
    "        if child + 1 <= end and lst[child] < lst[child + 1]:\n",
    "            child += 1\n",
    "        if lst[root] < lst[child]:\n",
    "            lst[root], lst[child] = lst[child], lst[root]\n",
    "            root = child\n",
    "        else:\n",
    "            break\n",
    "\n",
    "\n"
   ]
  },
  {
   "cell_type": "markdown",
   "metadata": {},
   "source": [
    "### Examples"
   ]
  },
  {
   "cell_type": "code",
   "execution_count": 2,
   "metadata": {},
   "outputs": [
    {
     "data": {
      "text/plain": [
       "['gasa', 'l', 'o', 's', 'wds']"
      ]
     },
     "execution_count": 2,
     "metadata": {},
     "output_type": "execute_result"
    }
   ],
   "source": [
    "ary = [7, 6, 5, 9, 8, 4, 3, 1, 2, 0]\n",
    "heapsort(ary)\n",
    "strin = ['wds','gasa', 'o', 'l', 's']\n",
    "heapsort(strin)"
   ]
  },
  {
   "cell_type": "markdown",
   "metadata": {
    "collapsed": true
   },
   "source": [
    "### Fasta"
   ]
  },
  {
   "cell_type": "code",
   "execution_count": 4,
   "metadata": {},
   "outputs": [
    {
     "name": "stdout",
     "output_type": "stream",
     "text": [
      "seq0 62\n",
      "Seq('FQTWEEFSRAAEKLYLADPMKVRVVLKYRHVDGNLCIKVTDDLVCLVYRTDQAQ...EKF', SingleLetterAlphabet())\n",
      "seq1 106\n",
      "Seq('KYRTWEEFTRAAEKLYQADPMKVRVVLKYRHCDGNLCIKVTDDVVCLLYRTDQA...TLM', SingleLetterAlphabet())\n",
      "seq2 67\n",
      "Seq('EEYQTWEEFARAAEKLYLTDPMKVRVVLKYRHCDGNLCMKVTDDAVCLQYKTDQ...HGK', SingleLetterAlphabet())\n",
      "seq3 58\n",
      "Seq('MYQVWEEFSRAVEKLYLTDPMKVRVVLKYRHCDGNLCIKVTDNSVCLQYKTDQAQDVK', SingleLetterAlphabet())\n",
      "seq4 62\n",
      "Seq('EEFSRAVEKLYLTDPMKVRVVLKYRHCDGNLCIKVTDNSVVSYEMRLFGVQKDN...SLL', SingleLetterAlphabet())\n",
      "seq5 66\n",
      "Seq('SWEEFAKAAEVLYLEDPMKCRMCTKYRHVDHKLVVKLTDNHTVLKYVTDMAQDV...LMR', SingleLetterAlphabet())\n",
      "seq6 70\n",
      "Seq('FTNWEEFAKAAERLHSANPEKCRFVTKYNHTKGELVLKLTDDVVCLQYSTNQLQ...RSI', SingleLetterAlphabet())\n",
      "seq7 65\n",
      "Seq('SWEEFVERSVQLFRGDPNATRYVMKYRHCEGKLVLKVTDDRECLKFKTDQAQDA...IFF', SingleLetterAlphabet())\n",
      "seq8 68\n",
      "Seq('SWDEFVDRSVQLFRADPESTRYVMKYRHCDGKLVLKVTDNKECLKFKTDQAQEA...TLM', SingleLetterAlphabet())\n",
      "seq9 57\n",
      "Seq('KNWEDFEIAAENMYMANPQNCRYTMKYVHSKGHILLKMSDNVKCVQYRAENMPDLKK', SingleLetterAlphabet())\n",
      "seq10 61\n",
      "Seq('FDSWDEFVSKSVELFRNHPDTTRYVVKYRHCEGKLVLKVTDNHECLKFKTDQAQ...MEK', SingleLetterAlphabet())\n"
     ]
    }
   ],
   "source": [
    "from Bio import SeqIO\n",
    "\n",
    "D = []\n",
    "for seq_record in SeqIO.parse(\"fasta_example.fasta\", \"fasta\"):\n",
    "    print(seq_record.id, len(seq_record))\n",
    "    print(repr(seq_record.seq))\n",
    "    D.append(str(seq_record.seq))"
   ]
  },
  {
   "cell_type": "code",
   "execution_count": 5,
   "metadata": {
    "scrolled": true
   },
   "outputs": [
    {
     "data": {
      "text/plain": [
       "['EEFSRAVEKLYLTDPMKVRVVLKYRHCDGNLCIKVTDNSVVSYEMRLFGVQKDNFALEHSLL',\n",
       " 'EEYQTWEEFARAAEKLYLTDPMKVRVVLKYRHCDGNLCMKVTDDAVCLQYKTDQAQDVKKVEKLHGK',\n",
       " 'FDSWDEFVSKSVELFRNHPDTTRYVVKYRHCEGKLVLKVTDNHECLKFKTDQAQDAKKMEK',\n",
       " 'FQTWEEFSRAAEKLYLADPMKVRVVLKYRHVDGNLCIKVTDDLVCLVYRTDQAQDVKKIEKF',\n",
       " 'FTNWEEFAKAAERLHSANPEKCRFVTKYNHTKGELVLKLTDDVVCLQYSTNQLQDVKKLEKLSSTLLRSI',\n",
       " 'KNWEDFEIAAENMYMANPQNCRYTMKYVHSKGHILLKMSDNVKCVQYRAENMPDLKK',\n",
       " 'KYRTWEEFTRAAEKLYQADPMKVRVVLKYRHCDGNLCIKVTDDVVCLLYRTDQAQDVKKIEKFHSQLMRLMELKVTDNKECLKFKTDQAQEAKKMEKLNNIFFTLM',\n",
       " 'MYQVWEEFSRAVEKLYLTDPMKVRVVLKYRHCDGNLCIKVTDNSVCLQYKTDQAQDVK',\n",
       " 'SWDEFVDRSVQLFRADPESTRYVMKYRHCDGKLVLKVTDNKECLKFKTDQAQEAKKMEKLNNIFFTLM',\n",
       " 'SWEEFAKAAEVLYLEDPMKCRMCTKYRHVDHKLVVKLTDNHTVLKYVTDMAQDVKKIEKLTTLLMR',\n",
       " 'SWEEFVERSVQLFRGDPNATRYVMKYRHCEGKLVLKVTDDRECLKFKTDQAQDAKKMEKLNNIFF']"
      ]
     },
     "execution_count": 5,
     "metadata": {},
     "output_type": "execute_result"
    }
   ],
   "source": [
    "heapsort(D)"
   ]
  },
  {
   "cell_type": "markdown",
   "metadata": {},
   "source": [
    "## 2. Zero submatrix\n",
    "http://e-maxx.ru/algo/maximum_zero_submatrix"
   ]
  },
  {
   "cell_type": "markdown",
   "metadata": {},
   "source": [
    "### maximum rectangle (in terms of area) under a histogram\n",
    "https://stackoverflow.com/questions/4311694/maximize-the-rectangular-area-under-histogram"
   ]
  },
  {
   "cell_type": "code",
   "execution_count": 53,
   "metadata": {
    "collapsed": true
   },
   "outputs": [],
   "source": [
    "def largestRectangleArea(A):\n",
    "    ans = 0\n",
    "    A = [-1] + A\n",
    "    A.append(-1)\n",
    "    n = len(A)\n",
    "    stack = [0]  # store index\n",
    "\n",
    "    print(n)\n",
    "    for i in range(n):\n",
    "        while A[i] < A[stack[-1]]:\n",
    "            h = A[stack.pop()]\n",
    "            area = h*(i-stack[-1]-1)\n",
    "            ans = max(ans, area)\n",
    "        stack.append(i)\n",
    "    return ans\n"
   ]
  },
  {
   "cell_type": "code",
   "execution_count": 54,
   "metadata": {},
   "outputs": [
    {
     "name": "stdout",
     "output_type": "stream",
     "text": [
      "8\n",
      "10\n",
      "5\n",
      "6\n"
     ]
    }
   ],
   "source": [
    "a = [2, 1, 5, 6, 2, 3]\n",
    "print(largestRectangleArea(a))\n",
    "b = [4, 3, 2]\n",
    "print(largestRectangleArea(b))\n"
   ]
  },
  {
   "cell_type": "markdown",
   "metadata": {},
   "source": [
    "### Matrix"
   ]
  },
  {
   "cell_type": "code",
   "execution_count": 177,
   "metadata": {
    "collapsed": true
   },
   "outputs": [],
   "source": [
    "a = [[1, 0, 1, 1, 1],\n",
    "    [1, 0, 0, 0, 1],\n",
    "    [1, 0, 0, 0, 1],\n",
    "    [1, 0, 0, 0, 1],\n",
    "    [1, 1, 1, 0, 0]]\n",
    "\n",
    "\"\"\"a = [[0, 1, 0, 0, 0],\n",
    "    [0, 1, 1, 1, 0],\n",
    "    [0, 1, 1, 1, 0],\n",
    "    [0, 1, 1, 1, 0],\n",
    "    [0, 0, 0, 1, 1]]\"\"\"\n",
    "    \n",
    "n = len(a); m = len(a[0])"
   ]
  },
  {
   "cell_type": "code",
   "execution_count": 178,
   "metadata": {
    "collapsed": true
   },
   "outputs": [],
   "source": [
    "#ans = [0]*(n+2)\n",
    "#ans_l = [0]*(n+2); ans_r = [0]*(n+2); ans_h = [0]*(n+2)\n",
    "ans = [0]*n\n",
    "ans_l = [0]*n; ans_r = [0]*n; ans_h = [0]*n\n",
    "d = [[0]*m for i in range(n)] #auxiliary matrix where each element represents the number of 1s above and including it, up until the first 0"
   ]
  },
  {
   "cell_type": "code",
   "execution_count": 180,
   "metadata": {},
   "outputs": [
    {
     "name": "stdout",
     "output_type": "stream",
     "text": [
      "[3, 2, 3, 4, 5]\n",
      "[2, 4, 4, 4, 0]\n",
      "[4, 4, 4, 4, 0]\n",
      "[1, 2, 3, 4, 5]\n",
      "[[1, 0, 1, 1, 1], [2, 0, 0, 0, 2], [3, 0, 0, 0, 3], [4, 0, 0, 0, 4], [5, 1, 1, 0, 0]]\n"
     ]
    }
   ],
   "source": [
    "for i in range(n):\n",
    "    for j in range(m):  \n",
    "        if i == 0:\n",
    "            d[i][j] = a[i][j]\n",
    "        else:\n",
    "            if a[i][j] == 1:\n",
    "                d[i][j] = d[i-1][j]+1\n",
    "                \n",
    "    # largestRectangleArea \n",
    "    A = d[i]\n",
    "    A = [-1] + A\n",
    "    A.append(-1)\n",
    "    k = len(A)\n",
    "    stack = [0]  # store index\n",
    "\n",
    "    for t in range(k):\n",
    "        while A[t] < A[stack[-1]]:\n",
    "            h = A[stack.pop()]\n",
    "            area = h*(t-stack[-1]-1)\n",
    "            ans[i] = max(ans[i], area)\n",
    "            if area == ans[i]:\n",
    "                ans_l[i] = stack[-1]\n",
    "                ans_r[i] = t-2\n",
    "                ans_h[i] = h\n",
    "        stack.append(t)\n",
    "\n",
    "print(ans)\n",
    "print(ans_l)\n",
    "print(ans_r)\n",
    "print(ans_h)\n",
    "print(d)"
   ]
  },
  {
   "cell_type": "markdown",
   "metadata": {},
   "source": [
    "#### координаты подматрицы"
   ]
  },
  {
   "cell_type": "code",
   "execution_count": 181,
   "metadata": {},
   "outputs": [
    {
     "name": "stdout",
     "output_type": "stream",
     "text": [
      "4\n",
      "[0, 0]\n",
      "[4, 0]\n",
      "[0, 0]\n",
      "[4, 0]\n"
     ]
    }
   ],
   "source": [
    "i = ans.index(max(ans))\n",
    "print(i)\n",
    "# 0-нотация\n",
    "lt = [i-ans_h[i]+1, ans_l[i]] #левый верхний угол\n",
    "print(lt)\n",
    "ld = [i, ans_l[i]]            #левый нижний угол\n",
    "print(ld)\n",
    "rt = [i-ans_h[i]+1, ans_r[i]] #правый верхний угол\n",
    "print(rt)\n",
    "rd = [i, ans_r[i]]            #правый нижний угол\n",
    "print(rd)"
   ]
  },
  {
   "cell_type": "markdown",
   "metadata": {},
   "source": [
    "#### Example"
   ]
  },
  {
   "cell_type": "code",
   "execution_count": 169,
   "metadata": {
    "collapsed": true
   },
   "outputs": [],
   "source": [
    "def largestRectangleArea(A):\n",
    "    ans = 0\n",
    "    ans_l = 0; ans_r = 0; h = 0\n",
    "    A = [-1] + A\n",
    "    A.append(-1)\n",
    "    n = len(A)\n",
    "    stack = [0]  # store index\n",
    "\n",
    "    for i in range(n):\n",
    "        while A[i] < A[stack[-1]]:\n",
    "            h = A[stack.pop()]\n",
    "            area = h*(i-stack[-1]-1)\n",
    "            ans = max(ans, area)\n",
    "            if area == ans:\n",
    "                ans_l = stack[-1]\n",
    "                ans_r = i-2\n",
    "                ans_h = h\n",
    "        stack.append(i)\n",
    "    return ans, ans_l, ans_r, ans_h"
   ]
  },
  {
   "cell_type": "code",
   "execution_count": 170,
   "metadata": {},
   "outputs": [
    {
     "name": "stdout",
     "output_type": "stream",
     "text": [
      "(10, 2, 3, 5)\n",
      "(6, 0, 2, 2)\n",
      "(4, 4, 5, 2)\n"
     ]
    }
   ],
   "source": [
    "ma = [2, 1, 5, 6, 2, 3]\n",
    "print(largestRectangleArea(ma))\n",
    "mb = [4, 3, 2]\n",
    "print(largestRectangleArea(mb))\n",
    "mc = [3, 0, 0, 0, 2, 2,0]\n",
    "print(largestRectangleArea(mc))"
   ]
  },
  {
   "cell_type": "markdown",
   "metadata": {
    "collapsed": true
   },
   "source": [
    "## 3. FASTA Alignment Sort"
   ]
  },
  {
   "cell_type": "code",
   "execution_count": 1,
   "metadata": {},
   "outputs": [
    {
     "ename": "ModuleNotFoundError",
     "evalue": "No module named 'Bio'",
     "output_type": "error",
     "traceback": [
      "\u001b[0;31m------------------------------------------------------------------\u001b[0m",
      "\u001b[0;31mModuleNotFoundError\u001b[0m              Traceback (most recent call last)",
      "\u001b[0;32m<ipython-input-1-d3b6bed79e11>\u001b[0m in \u001b[0;36m<module>\u001b[0;34m()\u001b[0m\n\u001b[0;32m----> 1\u001b[0;31m \u001b[0;32mfrom\u001b[0m \u001b[0mBio\u001b[0m \u001b[0;32mimport\u001b[0m \u001b[0mSeqIO\u001b[0m\u001b[0;34m\u001b[0m\u001b[0m\n\u001b[0m\u001b[1;32m      2\u001b[0m \u001b[0;34m\u001b[0m\u001b[0m\n\u001b[1;32m      3\u001b[0m \u001b[0mD\u001b[0m \u001b[0;34m=\u001b[0m \u001b[0;34m[\u001b[0m\u001b[0;34m]\u001b[0m\u001b[0;34m\u001b[0m\u001b[0m\n\u001b[1;32m      4\u001b[0m \u001b[0;32mfor\u001b[0m \u001b[0mseq_record\u001b[0m \u001b[0;32min\u001b[0m \u001b[0mSeqIO\u001b[0m\u001b[0;34m.\u001b[0m\u001b[0mparse\u001b[0m\u001b[0;34m(\u001b[0m\u001b[0;34m\"fasta_example.fasta\"\u001b[0m\u001b[0;34m,\u001b[0m \u001b[0;34m\"fasta\"\u001b[0m\u001b[0;34m)\u001b[0m\u001b[0;34m:\u001b[0m\u001b[0;34m\u001b[0m\u001b[0m\n\u001b[1;32m      5\u001b[0m     \u001b[0mprint\u001b[0m\u001b[0;34m(\u001b[0m\u001b[0mseq_record\u001b[0m\u001b[0;34m.\u001b[0m\u001b[0mid\u001b[0m\u001b[0;34m,\u001b[0m \u001b[0mlen\u001b[0m\u001b[0;34m(\u001b[0m\u001b[0mseq_record\u001b[0m\u001b[0;34m)\u001b[0m\u001b[0;34m)\u001b[0m\u001b[0;34m\u001b[0m\u001b[0m\n",
      "\u001b[0;31mModuleNotFoundError\u001b[0m: No module named 'Bio'"
     ]
    }
   ],
   "source": [
    "from Bio import SeqIO\n",
    "\n",
    "D = []\n",
    "for seq_record in SeqIO.parse(\"fasta_example.fasta\", \"fasta\"):\n",
    "    print(seq_record.id, len(seq_record))\n",
    "    print(repr(seq_record.seq))\n",
    "    D.append(str(seq_record.seq))\n",
    "\n"
   ]
  },
  {
   "cell_type": "code",
   "execution_count": null,
   "metadata": {
    "collapsed": true
   },
   "outputs": [],
   "source": [
    "seqNominal = \"ABABABAAAABABA\" # seqNominal = input()"
   ]
  },
  {
   "cell_type": "code",
   "execution_count": null,
   "metadata": {
    "collapsed": true
   },
   "outputs": [],
   "source": []
  },
  {
   "cell_type": "code",
   "execution_count": null,
   "metadata": {
    "collapsed": true
   },
   "outputs": [],
   "source": [
    "scoreList = [globAlig(i, seqNominal) for i in range(len(D))] # vector of alignment score for each seq\n",
    "dictScore = enumerate(scoreList)"
   ]
  },
  {
   "cell_type": "markdown",
   "metadata": {},
   "source": [
    "scoreList = [i) for i in range(len(D))] # vector of alignment score for each seq\n",
    "dictScore = enumerate(scoreList)"
   ]
  },
  {
   "cell_type": "code",
   "execution_count": 1,
   "metadata": {},
   "outputs": [
    {
     "name": "stdout",
     "output_type": "stream",
     "text": [
      "Python 3.5.2\r\n"
     ]
    }
   ],
   "source": [
    "!python3 --version"
   ]
  },
  {
   "cell_type": "code",
   "execution_count": 3,
   "metadata": {},
   "outputs": [
    {
     "name": "stdout",
     "output_type": "stream",
     "text": [
      "/home/kirill/py35/bin/python3\r\n"
     ]
    }
   ],
   "source": [
    "!which python3"
   ]
  },
  {
   "cell_type": "code",
   "execution_count": 59,
   "metadata": {
    "collapsed": true
   },
   "outputs": [],
   "source": [
    "\n",
    "mat = {('S', 'S'): 0, ('S', 'N'): 1, ('S', 'O'): 1, ('S', 'W'): 1, ('S', 'Y'): 1, ('S', 'U'): 1,\n",
    "    ('N', 'S'): 1, ('N', 'N'): 0, ('N', 'O'): 1, ('N', 'W'): 1, ('N', 'Y'): 1, ('N', 'U'): 1,\n",
    "    ('O', 'S'): 1, ('O', 'N'): 1, ('O', 'O'): 0, ('O', 'W'): 1, ('O', 'Y'): 1, ('O', 'U'): 1,\n",
    "    ('W', 'S'): 1, ('W', 'N'): 1, ('W', 'O'): 1, ('W', 'W'): 0, ('W', 'Y'): 1, ('W', 'U'): 1,\n",
    "    ('Y', 'S'): 1, ('Y', 'N'): 1, ('Y', 'O'): 1, ('Y', 'W'): 1, ('Y', 'Y'): 0, ('Y', 'U'): 1,\n",
    "    ('U', 'S'): 1, ('U', 'N'): 1, ('U', 'O'): 1, ('U', 'W'): 1, ('U', 'Y'): 1, ('U', 'U'): 0}\n",
    "\n",
    "indel = 1 \n",
    "\n",
    "def scoringLevDistance(v, w):\n",
    "    n = len(v)\n",
    "    m = len(w)\n",
    "    D = [[0] * (m+1) for i in range(n+1)] #double dimension matrix (list comprehension)\n",
    "    opt = [[0] * (m+1) for i in range(n+1)] # 1 = right, 2 = down, 3 = diag, 0 = diag non subst\n",
    "\n",
    "    \n",
    "    #first column just indel\n",
    "    for i in range(n+1):    \n",
    "        D[i][0] = -i*indel # D[i-1][0]-indel\n",
    "        opt[i][0] = 2; # just go down\n",
    "    \n",
    "    #first string just indel\n",
    "    for j in range(m+1):\n",
    "        D[0][j] = -j*indel # D[0][j-1]-indel\n",
    "        opt[0][j] = 1; # just go right\n",
    "        \n",
    "    for i in range(1, n+1):\n",
    "        for j in range(1, m+1):\n",
    "            a = v[i-1]\n",
    "            b = w[j-1]\n",
    "            #if (a,b) in mat.keys():\n",
    "                #D[i][j] = max(D[i-1][j]-0.5, D[i][j-1]-0.5, D[i-1][j-1]+mat[(a,b)])\n",
    "                #print mat[(a,b)]\n",
    "            #else:\n",
    "                #D[i][j] = max(D[i-1][j]-0.5, D[i][j-1]-0.5, D[i-1][j-1]+mat[(b,a)])\n",
    "                #print mat[(b,a)]\n",
    "\n",
    "            D[i][j] = D[i-1][j-1]+mat[(a,b)]\n",
    "            if a==b:\n",
    "                opt[i][j] = 0 # NO SUBSTITUTE   \n",
    "            else:\n",
    "                opt[i][j] = 3 # DIAGONAL\n",
    "            if (D[i][j] <= D[i-1][j]-indel):\n",
    "                D[i][j] = D[i-1][j]-indel\n",
    "                opt[i][j] = 2 # DOWN\n",
    "            if (D[i][j] <= D[i][j-1]-indel):\n",
    "                D[i][j] = D[i][j-1]-indel\n",
    "                opt[i][j]= 1 # RIGHT\n",
    "\n",
    "    i=len(v)\n",
    "    j=len(w)\n",
    "    alignedV=\"\"\n",
    "    alignedW=\"\"\n",
    "    while i>0 or j>0:\n",
    "        print(opt[i][j], i, j)\n",
    "        if opt[i][j] == 0: #\"no subst\":\n",
    "            alignedV+=v[i-1]\n",
    "            alignedW+=w[j-1]\n",
    "            i-=1\n",
    "            j-=1\n",
    "        elif opt[i][j] == 1:#\"right\":\n",
    "            alignedW+=\"-\"\n",
    "            alignedV+=v[i-1]\n",
    "            j-=1\n",
    "        elif opt[i][j] == 2:#\"down\":\n",
    "            alignedV += \"-\"\n",
    "            alignedW+=w[j-1]\n",
    "            i-=1\n",
    "        elif opt[i][j] == 3: #\"diag\":\n",
    "            alignedV+=v[i-1]\n",
    "            alignedW+=w[j-1].lower()\n",
    "            i-=1\n",
    "            j-=1\n",
    "            \n",
    "    print(alignedV[-1::-1])\n",
    "    print(alignedW[-1::-1])\n",
    "    print(D)\n",
    "    print(opt)\n",
    "    return D[n][m]"
   ]
  },
  {
   "cell_type": "code",
   "execution_count": 60,
   "metadata": {},
   "outputs": [
    {
     "name": "stdout",
     "output_type": "stream",
     "text": [
      "0 5 5\n",
      "3 4 4\n",
      "3 3 3\n",
      "3 2 2\n",
      "0 1 1\n",
      "SNOWY\n",
      "SunnY\n",
      "[[0, -1, -2, -3, -4, -5], [-1, 0, 0, -1, -2, -3], [-2, 0, 1, 0, -1, -1], [-3, -1, 1, 2, 1, 0], [-4, -2, 0, 2, 3, 2], [-5, -3, -1, 1, 3, 3]]\n",
      "[[1, 1, 1, 1, 1, 1], [2, 0, 3, 1, 1, 1], [2, 3, 3, 1, 1, 3], [2, 2, 3, 3, 1, 1], [2, 2, 2, 3, 3, 1], [2, 2, 2, 2, 3, 0]]\n",
      "3\n"
     ]
    }
   ],
   "source": [
    "v = 'SNOWY'\n",
    "w = 'SUNNY'\n",
    "x = scoringLevDistance(v, w)\n",
    "print(x)"
   ]
  },
  {
   "cell_type": "code",
   "execution_count": null,
   "metadata": {
    "collapsed": true
   },
   "outputs": [],
   "source": []
  }
 ],
 "metadata": {
  "kernelspec": {
   "display_name": "Python 3",
   "language": "python",
   "name": "python3"
  },
  "language_info": {
   "codemirror_mode": {
    "name": "ipython",
    "version": 3
   },
   "file_extension": ".py",
   "mimetype": "text/x-python",
   "name": "python",
   "nbconvert_exporter": "python",
   "pygments_lexer": "ipython3",
   "version": "3.6.3"
  }
 },
 "nbformat": 4,
 "nbformat_minor": 2
}
