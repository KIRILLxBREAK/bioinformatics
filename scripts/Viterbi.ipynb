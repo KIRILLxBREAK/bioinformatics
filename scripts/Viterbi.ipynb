{
 "cells": [
  {
   "cell_type": "markdown",
   "metadata": {},
   "source": [
    "# Viterbi"
   ]
  },
  {
   "cell_type": "markdown",
   "metadata": {},
   "source": [
    "S - словарь наблюдаемых переменных\n",
    "\n",
    "H - словарь скрытых переменных\n",
    "\n",
    "A - матрица перехода\n",
    "\n",
    "B - матрица эмиссионных вероятностей\n",
    "\n",
    "p - начальные вероятности\n",
    "\n",
    "D - последовательность наблюдаемых переменных"
   ]
  },
  {
   "cell_type": "code",
   "execution_count": 2,
   "metadata": {
    "collapsed": true
   },
   "outputs": [],
   "source": [
    "S = {'A': 0, 'T': 1, 'C': 2, 'G': 3}\n",
    "A = [[0.9, 0.1],[0.1, 0.9]] # 2x2\n",
    "B = [[0.3, 0.3, 0.2, 0.2],[0.2, 0.2, 0.3, 0.3]] # 2x4\n",
    "p = [0.5, 0.5]\n",
    "D = ['A', 'C', 'G', 'T', 'A', 'T', 'G', 'C', 'C', 'A', 'A', 'A', 'T', 'T', 'T', 'A']"
   ]
  },
  {
   "cell_type": "code",
   "execution_count": 3,
   "metadata": {
    "collapsed": true
   },
   "outputs": [],
   "source": [
    "def Viterbi(A, B, p, D):\n",
    "    V = [[0]*len(p) for i in range(len(D))] # Массив для хранения наиболее вероятных путей\n",
    "    T = [0]*len(D) # Массив для хранения направлений перехода\n",
    "    for s in range(len(p)-1):\n",
    "        V[0][s] = p[s]*B[s][S[D[0]]]\n",
    "    max_start = max(V[0])\n",
    "    for s in range(len(p)):\n",
    "        if V[0][s] == max_start:\n",
    "            T[0] = s\n",
    "            break\n",
    "        \n",
    "    for n in range(1, len(D)):\n",
    "        for t in range(len(p)):\n",
    "            V[n][t] = max( V[n-1][s]*A[s][t]*B[t][S[D[n]]] for s in range(len(p)) )\n",
    "            for s in range(len(p)):\n",
    "                #T[n][t]=argmax_s (V[n − 1, s] ∗ A[s, t])\n",
    "                if V[n-1][s]*A[s][t]*B[t][S[D[n]]] == V[n][t]:\n",
    "                    T[n] = s\n",
    "                    break\n",
    "                    \n",
    "    #S = argmax s (V [N, s])\n",
    "    return T#, Ss\n"
   ]
  },
  {
   "cell_type": "code",
   "execution_count": 4,
   "metadata": {},
   "outputs": [
    {
     "data": {
      "text/plain": [
       "[0, 0, 1, 1, 1, 1, 0, 1, 1, 1, 1, 1, 0, 0, 0, 0]"
      ]
     },
     "execution_count": 4,
     "metadata": {},
     "output_type": "execute_result"
    }
   ],
   "source": [
    "Viterbi(A, B, p, D)"
   ]
  }
 ],
 "metadata": {
  "kernelspec": {
   "display_name": "Python 3",
   "language": "python",
   "name": "python3"
  },
  "language_info": {
   "codemirror_mode": {
    "name": "ipython",
    "version": 3
   },
   "file_extension": ".py",
   "mimetype": "text/x-python",
   "name": "python",
   "nbconvert_exporter": "python",
   "pygments_lexer": "ipython3",
   "version": "3.6.1"
  }
 },
 "nbformat": 4,
 "nbformat_minor": 2
}
