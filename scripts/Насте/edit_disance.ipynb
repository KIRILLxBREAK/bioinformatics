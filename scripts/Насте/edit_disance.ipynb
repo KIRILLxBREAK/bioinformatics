{
 "cells": [
  {
   "cell_type": "code",
   "execution_count": 5,
   "metadata": {
    "collapsed": false
   },
   "outputs": [
    {
     "name": "stdout",
     "output_type": "stream",
     "text": [
      "МФТИ - лучший вуз на земле\n"
     ]
    }
   ],
   "source": [
    "import numpy as np\n",
    "\n",
    "#обратите внимание, что перед последовательностями я добавляю по одному разному небуквенному символу \n",
    "\n",
    "s1 = '#TDNNMQKHTDYPTMHDGAYIDYMVTYDKLQDWEHVLINDTEVIMQMNTKYFCNVKRRDIDLVQWGYHTCYAMFCGKSYYNHHMIQNCVPVMLFLHMFGWVMTIKIRFGWRGRWLCGQHDTYIRSSNHEVGNLKMFDMDGVTMDEHMNQTELDWHVGQTCGSMPNWRIWRFMARDFMQCVKRAEVYSIDCRVHYGMQTNYPKIQVFVFSEVLNKEGAMAEQHKHRSCDLTLCVIEWRHMPRQAFLHEFLWGDAVWTIILQREQWEFIEWIMEPDPIEFWGAKSVLNGPRHEPIMESLYAYWHPLNQQNTLEAKMVTCICFDTMRFAHAYIYVMWYCAENAMDARKKVRIVFMDFSPYPKMCIDHKTHKGDKFGRQYDPTMGIKHESMPNLVFNMGNPLMSQVVGGTKFANQWGKLIVHIDREHHVAVNFFLTQKYAEENIFLHKWIWSRQCNRAYESVGMIDARMSDLGEMICHFTGWLYIQEKWVYLFKGRHIHNRAYGPANLMAIFGSSEWAAKGPYGKNQVFPTIQIFAYRTKSEYLAPDPKKLRCVLSPWPSRYLKWQIEASFTRTHMRWDNKHHNQSGEFLLLFMVIFKLFDDFEQASYSPGDQMEYMTAENLPDFFTWCVAMNIVIVNELMFSCLKGCAWYVRVYFHATAWIVSNEWAGISAWQIIHPCHLKFQELCNNQEGGQPCHIPDWQEYSGLVTVYSQHLEPFLKYYLHW'\n",
    "s2 = '$TDNDYMTMIDYSVTYDKLQDWEVLIMQMNTDYFCNVKHRDICPVCYAMFCGKSYYNHEFKWSANCPCNKTQEVMMTIKLDVQWRRFGCADERGRWRPECGQHDTYIRSSNHEVGNLKMWYYIPCHGCMDGVTMDEHMNWPELMWHTEPHKGQTCGSPNNWRIWRFMYRDFMQCVQRAEVYGEWDFWEGDCRVHYGCQTNIQVFVFSEVLNKEGCTAMNEKHDHRSYQGCDHMPQQAFLHEFLWGPEMVNEHVAVWTIICQYWQWEFHMGKEINLDLKHAIEFWGAKNVLNGPRHEPVFSGWMDSLPLNQQNTLEAKMVTCVCFQWFNPRLMFTMRAAHAYIYCEVNEGKWAMDARISVRIYIRQFMKFAPYSCDFVRHKTHKGDKFRQVDPFNWYHLNFETTTCVLCASMPNRNPLMSQVVGGTKFANQWGMKLIVLIIEGVSKHWWYFPGGHHMAVGFFLTHKWIWSRQCLEKECRAYIWTVTYHLSVGMIDARMSDCVDWAQAGEMICHFTGWLYIQGRHIHNNLMAFGSSTWARKGPYGKNGVFTFKTIQIFAYVEYPWWTPSISNPDPKKLRCVLSSWDAHEPSRYRKWKIEASFTRTLMQWLVPNWGGEINDHHNQLTNSFGELLLFMVIFKLQASYSPGDQTIIREGMTAENLPHFFTWCVAMNIVIVNELMFSCLGCNHVDFMVSSTVQWWAGVSAWQIIHFCHDKFQELCNNEGMQPCHICDWQEPGPCNKVSFGVLVTVYLKYANWSWMISMSCSESFHMFLKEW'\n",
    "def delta(a,b):\n",
    "    if a == b:\n",
    "        return 0\n",
    "    else:\n",
    "        return 1\n",
    "\n",
    "h = np.zeros(( len(s1), len(s2)))\n",
    "b = [ [0] * len(s2) for i in range(len(s1))]\n",
    "\n",
    "for i in range(len(s1)):\n",
    "    for j in range(len(s2)):\n",
    "        if i == 0:\n",
    "            h[i][j] = j\n",
    "            b[i][j] = '->'\n",
    "for i in range(len(s1)):\n",
    "    for j in range(len(s2)):\n",
    "        if j == 0:\n",
    "            h[i][j] = i\n",
    "            b[i][j] = '/'        \n",
    "        \n",
    "\n",
    "\n",
    "        \n",
    "for i in range(1,len(s1)):\n",
    "    for j in range(1,len(s2)):\n",
    "        h[i][j] = h[i-1][j-1]+delta(s1[i], s2[j])\n",
    "        b[i][j] = '%'\n",
    "        \n",
    "        if h[i][j] > h[i-1][j]+1:\n",
    "            h[i][j] = h[i-1][j] + 1\n",
    "            b[i][j] = '/'\n",
    "        if h[i][j] > h[i][j-1]+1:\n",
    "            h[i][j] = h[i][j-1] + 1\n",
    "            b[i][j] = '->'\n",
    "\n",
    "    \n",
    "b[0][0] = 0  \n",
    "    \n",
    "    \n",
    "#надо вывесли на печать нижный правый элемент полученной матрицы h\n",
    "print('МФТИ - лучший вуз на земле')\n"
   ]
  },
  {
   "cell_type": "code",
   "execution_count": null,
   "metadata": {
    "collapsed": true
   },
   "outputs": [],
   "source": []
  }
 ],
 "metadata": {
  "anaconda-cloud": {},
  "kernelspec": {
   "display_name": "Python [conda root]",
   "language": "python",
   "name": "conda-root-py"
  },
  "language_info": {
   "codemirror_mode": {
    "name": "ipython",
    "version": 3
   },
   "file_extension": ".py",
   "mimetype": "text/x-python",
   "name": "python",
   "nbconvert_exporter": "python",
   "pygments_lexer": "ipython3",
   "version": "3.5.2"
  }
 },
 "nbformat": 4,
 "nbformat_minor": 1
}
